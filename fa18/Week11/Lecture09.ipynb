{
 "cells": [
  {
   "cell_type": "markdown",
   "metadata": {
    "deletable": true,
    "editable": true
   },
   "source": [
    "# Introduction to Linear Algebra\n"
   ]
  },
  {
   "cell_type": "code",
   "execution_count": 5,
   "metadata": {
    "collapsed": false,
    "deletable": true,
    "editable": true
   },
   "outputs": [
    {
     "data": {
      "text/plain": [
       "'%.4f'"
      ]
     },
     "execution_count": 5,
     "metadata": {},
     "output_type": "execute_result"
    }
   ],
   "source": [
    "# imports\n",
    "import numpy as np\n",
    "import scipy\n",
    "%matplotlib inline\n",
    "%precision 4"
   ]
  },
  {
   "cell_type": "markdown",
   "metadata": {
    "deletable": true,
    "editable": true
   },
   "source": [
    "## Examples: matrices, determinants"
   ]
  },
  {
   "cell_type": "code",
   "execution_count": 6,
   "metadata": {
    "collapsed": false,
    "deletable": true,
    "editable": true
   },
   "outputs": [
    {
     "name": "stdout",
     "output_type": "stream",
     "text": [
      "C=\n",
      " [[-1  6]\n",
      " [ 3 -2]]\n",
      "Determinant of C is -16.0\n",
      "D1=\n",
      " [[ 4 -8]\n",
      " [-2  4]]\n",
      "D2=\n",
      " [[ 4 -4]\n",
      " [-4  4]]\n"
     ]
    }
   ],
   "source": [
    "A = np.matrix([\n",
    "    [0, 4],\n",
    "    [2, 0]]\n",
    ")\n",
    "B = np.matrix(\n",
    "    [[-1, 2],\n",
    "     [1, -2]]\n",
    ")\n",
    "\n",
    "C = A + B\n",
    "print(\"C=\\n\",C)\n",
    "print(\"Determinant of C is\",np.linalg.det(C))\n",
    "D1 = A*B\n",
    "D2 = B*A\n",
    "print(\"D1=\\n\",D1)\n",
    "print(\"D2=\\n\",D2)\n"
   ]
  },
  {
   "cell_type": "markdown",
   "metadata": {
    "deletable": true,
    "editable": true
   },
   "source": [
    "### Gauss Elimination Example "
   ]
  },
  {
   "cell_type": "code",
   "execution_count": 35,
   "metadata": {
    "collapsed": false,
    "deletable": true,
    "editable": true
   },
   "outputs": [
    {
     "name": "stdout",
     "output_type": "stream",
     "text": [
      "[[ 10.     -7.      0.   ]\n",
      " [ -3.      2.099   6.   ]\n",
      " [  5.     -1.      5.   ]]\n",
      "det M = -150.05\n"
     ]
    }
   ],
   "source": [
    "M = np.matrix(\n",
    "[[10,-7,0],\n",
    "[-3,2.099,6],\n",
    "[5,-1,5]]  \n",
    ")\n",
    "print(M)\n",
    "print(\"det M =\",np.linalg.det(M))\n"
   ]
  },
  {
   "cell_type": "code",
   "execution_count": 37,
   "metadata": {
    "collapsed": false,
    "deletable": true,
    "editable": true
   },
   "outputs": [
    {
     "name": "stdout",
     "output_type": "stream",
     "text": [
      "[[ -1.0993e-01  -2.3326e-01   2.7991e-01]\n",
      " [ -2.9990e-01  -3.3322e-01   3.9987e-01]\n",
      " [  4.9950e-02   1.6661e-01   6.6644e-05]]\n",
      "Solution with matrix inversion:\n",
      " X= [[ -2.2204e-16  -1.0000e+00   1.0000e+00]]\n"
     ]
    }
   ],
   "source": [
    "Y = np.array([7,3.901,6])\n",
    "Minv = np.linalg.inv(M)\n",
    "print(Minv)\n",
    "X = np.matmul(Minv,Y)\n",
    "print('Solution with matrix inversion:\\n X=',X)\n"
   ]
  },
  {
   "cell_type": "code",
   "execution_count": 38,
   "metadata": {
    "collapsed": false,
    "deletable": true,
    "editable": true
   },
   "outputs": [
    {
     "name": "stdout",
     "output_type": "stream",
     "text": [
      "Using solver:\n",
      " X2= [ -3.1086e-16  -1.0000e+00   1.0000e+00]\n"
     ]
    }
   ],
   "source": [
    "X2 = np.linalg.solve(M,Y)\n",
    "print(\"Using solver:\\n X2=\",X2)"
   ]
  },
  {
   "cell_type": "markdown",
   "metadata": {
    "deletable": true,
    "editable": true
   },
   "source": [
    "### LU Decomposition Example\n",
    "\n",
    "`numpy.linalg.solve` uses LU decomposition with pivoting"
   ]
  },
  {
   "cell_type": "code",
   "execution_count": 41,
   "metadata": {
    "collapsed": false,
    "deletable": true,
    "editable": true
   },
   "outputs": [
    {
     "name": "stdout",
     "output_type": "stream",
     "text": [
      "Solution: X= [  0.2905  19.6905   1.0857]\n"
     ]
    }
   ],
   "source": [
    "A = np.matrix(\n",
    "[\n",
    "    [25,5,1],\n",
    "    [64,8,1],\n",
    "    [144,12,1]\n",
    "])\n",
    "Y = np.array([106.8,177.2,279.2])\n",
    "X = np.linalg.solve(A,Y)\n",
    "print(\"Solution: X=\",X)"
   ]
  },
  {
   "cell_type": "code",
   "execution_count": 56,
   "metadata": {
    "collapsed": false,
    "deletable": true,
    "editable": true
   },
   "outputs": [
    {
     "name": "stdout",
     "output_type": "stream",
     "text": [
      "L=\n",
      " [[ 1.      0.      0.    ]\n",
      " [ 0.1736  1.      0.    ]\n",
      " [ 0.4444  0.9143  1.    ]]\n",
      "U=\n",
      " [[ 144.       12.        1.    ]\n",
      " [   0.        2.9167    0.8264]\n",
      " [   0.        0.       -0.2   ]]\n",
      "P=\n",
      " [[ 0.  1.  0.]\n",
      " [ 0.  0.  1.]\n",
      " [ 1.  0.  0.]]\n"
     ]
    }
   ],
   "source": [
    "import scipy.linalg as scl\n",
    "\n",
    "P,L,U = scl.lu(A,permute_l=False)\n",
    "print('L=\\n',L)\n",
    "print('U=\\n',U)\n",
    "print('P=\\n',P)"
   ]
  },
  {
   "cell_type": "markdown",
   "metadata": {
    "deletable": true,
    "editable": true
   },
   "source": [
    "## Eigenvalue problem"
   ]
  },
  {
   "cell_type": "code",
   "execution_count": 59,
   "metadata": {
    "collapsed": false,
    "deletable": true,
    "editable": true
   },
   "outputs": [
    {
     "name": "stdout",
     "output_type": "stream",
     "text": [
      "Eigenvalues of A= [ 40.0196  -6.3501   0.3305]\n",
      "Eigenvectors: \n",
      " [[-0.2022 -0.0696  0.0195]\n",
      " [-0.4317  0.2432 -0.2879]\n",
      " [-0.8791  0.9675  0.9575]]\n"
     ]
    }
   ],
   "source": [
    "w,v = np.linalg.eig(A)\n",
    "print('Eigenvalues of A=',w)\n",
    "print('Eigenvectors: \\n',v)"
   ]
  },
  {
   "cell_type": "code",
   "execution_count": 4,
   "metadata": {
    "collapsed": false,
    "deletable": true,
    "editable": true
   },
   "outputs": [
    {
     "name": "stdout",
     "output_type": "stream",
     "text": [
      "Eigenvalues of S= [ 1. -1.]\n",
      "Eigenvectors: \n",
      " [[ 0.7071 -0.7071]\n",
      " [ 0.7071  0.7071]]\n"
     ]
    }
   ],
   "source": [
    "S = np.matrix(\n",
    "[\n",
    "    [0,1],\n",
    "    [1,0]\n",
    "])\n",
    "w,v = np.linalg.eig(S)\n",
    "print('Eigenvalues of S=',w)\n",
    "print('Eigenvectors: \\n',v)"
   ]
  },
  {
   "cell_type": "code",
   "execution_count": null,
   "metadata": {
    "collapsed": true
   },
   "outputs": [],
   "source": []
  }
 ],
 "metadata": {
  "kernelspec": {
   "display_name": "Python 3",
   "language": "python",
   "name": "python3"
  },
  "language_info": {
   "codemirror_mode": {
    "name": "ipython",
    "version": 3
   },
   "file_extension": ".py",
   "mimetype": "text/x-python",
   "name": "python",
   "nbconvert_exporter": "python",
   "pygments_lexer": "ipython3",
   "version": "3.5.2"
  }
 },
 "nbformat": 4,
 "nbformat_minor": 0
}
