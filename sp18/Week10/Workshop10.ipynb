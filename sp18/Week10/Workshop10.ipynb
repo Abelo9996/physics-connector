{
 "cells": [
  {
   "cell_type": "markdown",
   "metadata": {},
   "source": [
    "# Workshop 10\n",
    "# Introduction to Numerical ODE Solutions\n",
    "*Source: http://phys.csuchico.edu/ayars/312 *\n"
   ]
  },
  {
   "cell_type": "markdown",
   "metadata": {},
   "source": [
    "\n",
    "## OkPy Submission Instructions\n",
    "In this lab, we will use OkPy to submit assignments, and also to grade them. At the end of the iPython notebook, you will find a line of code _ = ok.submit() that you must run to submit your assignment to OkPy. You can run this lines of code multiple times to submit revisions up until the deadline.\n",
    "You must also run the very first code block that imports the OkPy modules needed to submit your assignment."
   ]
  },
  {
   "cell_type": "code",
   "execution_count": null,
   "metadata": {},
   "outputs": [],
   "source": [
    "# Don't change this cell; just run it. \n",
    "from client.api.notebook import Notebook\n",
    "ok = Notebook('Workshop10.ok')\n",
    "_ = ok.auth(inline=True)"
   ]
  },
  {
   "cell_type": "markdown",
   "metadata": {},
   "source": [
    "Standard preamble"
   ]
  },
  {
   "cell_type": "code",
   "execution_count": null,
   "metadata": {},
   "outputs": [],
   "source": [
    "# imports\n",
    "import numpy as np\n",
    "import matplotlib.pyplot as plt\n",
    "%matplotlib inline"
   ]
  },
  {
   "cell_type": "markdown",
   "metadata": {},
   "source": [
    "## Euler method"
   ]
  },
  {
   "cell_type": "markdown",
   "metadata": {},
   "source": [
    "Define a differential equation: simple harmonic motion"
   ]
  },
  {
   "cell_type": "code",
   "execution_count": null,
   "metadata": {},
   "outputs": [],
   "source": [
    "def SHO(state, time):\n",
    "    g0 = state[1]\n",
    "    g1 = -omega*omega*state[0]\n",
    "    return np.array([g0,g1])"
   ]
  },
  {
   "cell_type": "markdown",
   "metadata": {},
   "source": [
    "### Exercise 1\n",
    "\n",
    "Code up a different differential equation (use function name DHO) for a damped harmonic oscillator (described by $ \\frac{d^{2}x}{dt^2} = -\\omega_{0}^{2}x - 2b\\omega_{0}\\frac{dx}{dt} $, where b is the \"damping ratio\"). As above, the function should take a state [position x, velocity v] and time, and output the derivatives with respect to time [dx/dt, dv/dt] according to the given equation of motion."
   ]
  },
  {
   "cell_type": "code",
   "execution_count": null,
   "metadata": {},
   "outputs": [],
   "source": [
    "def DHO(state, time):\n",
    "    \n",
    "    g0 =\n",
    "    g1 =\n",
    "    \n",
    "    return np.array([g0,g1])"
   ]
  },
  {
   "cell_type": "markdown",
   "metadata": {},
   "source": [
    "### Definition of the Euler method"
   ]
  },
  {
   "cell_type": "code",
   "execution_count": null,
   "metadata": {},
   "outputs": [],
   "source": [
    "def euler(derivs, yo, times):\n",
    "    elements = len(yo)\n",
    "    N = len(times)\n",
    "    y = np.zeros([N, elements])\n",
    "\n",
    "    # initial condition\n",
    "    y[0] = yo\n",
    "\n",
    "    # calculate the rest\n",
    "    for j in range(1,N):\n",
    "        t = times[j]\n",
    "        dt = t-times[j-1]\n",
    "        y[j] = y[j-1] + derivs(y[j-1], t)*dt\n",
    "        \n",
    "    # return the answer\n",
    "    return y\n"
   ]
  },
  {
   "cell_type": "markdown",
   "metadata": {},
   "source": [
    "### Example"
   ]
  },
  {
   "cell_type": "code",
   "execution_count": null,
   "metadata": {},
   "outputs": [],
   "source": [
    "initial_state = np.array([1,0])    # Here the initial condition is x!=0, v=0.\n",
    "omega = 1\n",
    "N = 1000\n",
    "tau = 200\n",
    "wanted_times = np.linspace(0, tau, N)\n",
    "answer = euler(SHO, initial_state, wanted_times)\n",
    "\n",
    "# Plot the results\n",
    "x = answer[:,0]\n",
    "v = answer[:,1]\n",
    "plt.plot(wanted_times, x, 'b-')\n",
    "plt.plot(wanted_times, v, 'g-')\n",
    "plt.show()\n"
   ]
  },
  {
   "cell_type": "markdown",
   "metadata": {},
   "source": [
    "### Exercise 2:\n",
    "\n",
    "1. Vary parameters *tau* and *N* and see how the precision of the method depends on them\n",
    "1. Replace *SHO* function with the function you wrote in Exercise 1. Compare error of the Euler method for different functions. "
   ]
  },
  {
   "cell_type": "code",
   "execution_count": null,
   "metadata": {},
   "outputs": [],
   "source": []
  },
  {
   "cell_type": "markdown",
   "metadata": {},
   "source": [
    "### Euler-Cromer (improved Euler)"
   ]
  },
  {
   "cell_type": "code",
   "execution_count": null,
   "metadata": {},
   "outputs": [],
   "source": [
    "def eulerC(derivs, yo, times):\n",
    "    elements = len(yo)\n",
    "    N = len(times)\n",
    "    y = np.zeros([N, elements])\n",
    "\n",
    "    # initial condition\n",
    "    y[0] = yo\n",
    "\n",
    "    # calculate the rest\n",
    "    for j in range(1,N):\n",
    "        t = times[j]\n",
    "        dt = t-times[j-1]\n",
    "        y[j] = y[j-1] + derivs(y[j-1], t)*dt\n",
    "        \n",
    "        \n",
    "    # improve the calculation by computing the velocity at the *next* step    \n",
    "    for j in range(1,N):\n",
    "        t = times[j]\n",
    "        dt = t-times[j-1]\n",
    "        y[j,0] = y[j-1,0] + derivs(y[j-1], t)[0]*dt    \n",
    "        y[j,1] = y[j-1,1] + derivs(y[j], t)[1]*dt    \n",
    "    # return the answer\n",
    "    return y\n"
   ]
  },
  {
   "cell_type": "markdown",
   "metadata": {},
   "source": [
    "### Same example"
   ]
  },
  {
   "cell_type": "code",
   "execution_count": null,
   "metadata": {},
   "outputs": [],
   "source": [
    "answer = eulerC(SHO, initial_state, wanted_times)\n",
    "\n",
    "# Plot the results\n",
    "x = answer[:,0]\n",
    "v = answer[:,1]\n",
    "plt.plot(wanted_times, x, 'b-')\n",
    "plt.plot(wanted_times, v, 'g-')\n",
    "plt.show()\n"
   ]
  },
  {
   "cell_type": "markdown",
   "metadata": {},
   "source": [
    "### Exercise 3:\n",
    "\n",
    "1. Vary parameters *tau* and *N* and see how the precision of the method depends on them\n",
    "1. Replace *SHO* function with the function you wrote in Exercise 1. Compare error of the Euler-Cromer method for different functions. "
   ]
  },
  {
   "cell_type": "code",
   "execution_count": null,
   "metadata": {},
   "outputs": [],
   "source": []
  },
  {
   "cell_type": "markdown",
   "metadata": {},
   "source": [
    "## Runge-Kutta method\n",
    "\n",
    "Now try to implement a 2nd-order RK\n",
    "This function moves the value of ’y’ forward by a single step of size ’dt’, \n",
    "using a second−order Runge−Kutta algorithm. This particular algorithm is equivalent to \n",
    "finding the average of the slope at time t and at time\n",
    "( t+dt ) , and using that average slope to find value of y."
   ]
  },
  {
   "cell_type": "code",
   "execution_count": null,
   "metadata": {},
   "outputs": [],
   "source": [
    "def rk2(y, time, dt, derivs): \n",
    "    k0 = dt*derivs(y, time)\n",
    "    k1 = dt*derivs(y+k0, time+dt) \n",
    "    y_next = y+0.5*(k0+k1)\n",
    "    return y_next\n"
   ]
  },
  {
   "cell_type": "markdown",
   "metadata": {},
   "source": [
    "### Examples"
   ]
  },
  {
   "cell_type": "code",
   "execution_count": null,
   "metadata": {},
   "outputs": [],
   "source": [
    "initial_state = np.array([1,0])    # Here the initial condition is x!=0, v=0.\n",
    "omega = 1\n",
    "N = 1000\n",
    "tau = 200\n",
    "dt = tau/float(N-1)\n",
    "wanted_times = np.linspace(0, tau, N)\n",
    "\n",
    "answerE  = euler(SHO, initial_state, wanted_times)\n",
    "\n",
    "answerRK = np.zeros([N,2])\n",
    "answerRK[0,:] = initial_state\n",
    "for j in range (N-1):\n",
    "    answerRK[j+1] = rk2(answerRK[j], 0, dt , SHO)\n",
    "\n",
    "# Plot the results\n",
    "xE = answerE[:,0]\n",
    "vE = answerE[:,1]\n",
    "xRK = answerRK[:,0]\n",
    "vRK = answerRK[:,1]\n",
    "#plt.plot(wanted_times, x, 'b-')\n",
    "#plt.plot(wanted_times, xE, 'g-')\n",
    "plt.plot(wanted_times, xRK, 'r-')\n",
    "plt.show()\n"
   ]
  },
  {
   "cell_type": "markdown",
   "metadata": {},
   "source": [
    "### Exercise 4:\n",
    "\n",
    "1. Vary parameters *tau* and *N* and see how the precision of the method depends on them\n",
    "1. Replace *SHO* function with the function you wrote in Exercise 1. Compare error of the RK2 method for different functions. "
   ]
  },
  {
   "cell_type": "code",
   "execution_count": null,
   "metadata": {},
   "outputs": [],
   "source": []
  },
  {
   "cell_type": "markdown",
   "metadata": {},
   "source": [
    "### Exercise 5:\n",
    "\n",
    "1. Implement 4th order Runge-Kutta method\n",
    "1. Vary parameters *tau* and *N* and see how the precision of the method depends on them\n",
    "1. Replace *SHO* function with the function you wrote in Exercise 1. Compare error of the RK4 method for different functions. "
   ]
  },
  {
   "cell_type": "code",
   "execution_count": null,
   "metadata": {},
   "outputs": [],
   "source": []
  },
  {
   "cell_type": "markdown",
   "metadata": {},
   "source": [
    "## SciPy library \n",
    "\n",
    "SciPy offers an interface to LSODA routine from ODEPACK Fortran library (adaptive, high-performance multi-step integration) -- scipy.integrate.odeint routine"
   ]
  },
  {
   "cell_type": "code",
   "execution_count": null,
   "metadata": {},
   "outputs": [],
   "source": [
    "from scipy.integrate import odeint\n",
    "\n",
    "initial_state = np.array([1,0])    # Here the initial condition is x!=0, v=0.\n",
    "omega = 1\n",
    "N = 1000\n",
    "tau = 200\n",
    "dt = tau/float(N-1)\n",
    "wanted_times = np.linspace(0, tau, N)\n",
    "\n",
    "answer  = odeint(SHO, initial_state, wanted_times)\n",
    "x = answer[:,0]\n",
    "v = answer[:,1]\n",
    "plt.plot(wanted_times, x, 'r-')\n",
    "plt.plot(wanted_times, v, 'g-')\n",
    "plt.show()\n"
   ]
  },
  {
   "cell_type": "markdown",
   "metadata": {
    "collapsed": true
   },
   "source": [
    "### Exercise 6:\n",
    "\n",
    "1. Vary parameters *tau* and *N* and see how the precision of the method depends on them\n",
    "1. Replace *SHO* function with the function you wrote in Exercise 1. Compare error of the *odeint* method for different functions. "
   ]
  },
  {
   "cell_type": "code",
   "execution_count": null,
   "metadata": {},
   "outputs": [],
   "source": []
  },
  {
   "cell_type": "markdown",
   "metadata": {},
   "source": [
    "## Submission\n",
    "Please run this line of code to submit your work to OkPy."
   ]
  },
  {
   "cell_type": "code",
   "execution_count": null,
   "metadata": {},
   "outputs": [],
   "source": [
    "_ = ok.submit()"
   ]
  }
 ],
 "metadata": {
  "kernelspec": {
   "display_name": "Python 3",
   "language": "python",
   "name": "python3"
  },
  "language_info": {
   "codemirror_mode": {
    "name": "ipython",
    "version": 3
   },
   "file_extension": ".py",
   "mimetype": "text/x-python",
   "name": "python",
   "nbconvert_exporter": "python",
   "pygments_lexer": "ipython3",
   "version": "3.6.1"
  }
 },
 "nbformat": 4,
 "nbformat_minor": 1
}
