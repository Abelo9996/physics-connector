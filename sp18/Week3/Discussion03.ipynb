{
 "cells": [
  {
   "cell_type": "markdown",
   "metadata": {},
   "source": [
    "## Bizz Buzz\n",
    "\n",
    "\"Bizz Buzz\" is a popular social activity played among a group of people. The game is played by counting whole numbers starting from 1; except, instead of saying multiples of 5 you say \"bizz\", for multiples of 7 you say \"buzz\", and for multiples of 5 and 7 you say \"bizz buzz\". So the first 15 rounds would be:\n",
    "\n",
    "    1 \n",
    "    2\n",
    "    3\n",
    "    4\n",
    "    bizz\n",
    "    6\n",
    "    buzz\n",
    "    8\n",
    "    9\n",
    "    bizz \n",
    "    11\n",
    "    12\n",
    "    13\n",
    "    buzz\n",
    "    bizz\n",
    "    \n",
    "And so on until someone makes a mistake. \n",
    "\n",
    "Here, we will write a script that prints each round of the game up to N rounds."
   ]
  },
  {
   "cell_type": "code",
   "execution_count": 13,
   "metadata": {
    "collapsed": false
   },
   "outputs": [
    {
     "name": "stdout",
     "output_type": "stream",
     "text": [
      "[1, 2, 3, 4, 5, 6, 7, 8, 9, 10, 11, 12, 13, 14, 15, 16, 17, 18, 19, 20]\n"
     ]
    }
   ],
   "source": [
    "print range(1,21)"
   ]
  },
  {
   "cell_type": "code",
   "execution_count": 30,
   "metadata": {
    "collapsed": false
   },
   "outputs": [
    {
     "name": "stdout",
     "output_type": "stream",
     "text": [
      "1\n",
      "2\n",
      "3\n",
      "4\n",
      "bizz\n",
      "6\n",
      "buzz\n",
      "8\n",
      "9\n",
      "bizz\n",
      "11\n",
      "12\n",
      "13\n",
      "buzz\n",
      "bizz\n",
      "16\n",
      "17\n",
      "18\n",
      "19\n",
      "bizz\n",
      "buzz\n",
      "22\n",
      "23\n",
      "24\n",
      "bizz\n",
      "26\n",
      "27\n",
      "buzz\n",
      "29\n",
      "bizz\n",
      "31\n",
      "32\n",
      "33\n",
      "34\n",
      "bizz buzz\n",
      "36\n",
      "37\n",
      "38\n",
      "39\n",
      "bizz\n",
      "41\n",
      "buzz\n",
      "43\n",
      "44\n",
      "bizz\n",
      "46\n",
      "47\n",
      "48\n",
      "buzz\n",
      "bizz\n",
      "51\n",
      "52\n",
      "53\n",
      "54\n",
      "bizz\n",
      "buzz\n",
      "57\n",
      "58\n",
      "59\n",
      "bizz\n",
      "61\n",
      "62\n",
      "buzz\n",
      "64\n",
      "bizz\n",
      "66\n",
      "67\n",
      "68\n",
      "69\n",
      "bizz buzz\n",
      "71\n",
      "72\n",
      "73\n",
      "74\n",
      "bizz\n",
      "76\n",
      "buzz\n",
      "78\n",
      "79\n",
      "bizz\n",
      "81\n",
      "82\n",
      "83\n",
      "buzz\n",
      "bizz\n",
      "86\n",
      "87\n",
      "88\n",
      "89\n",
      "bizz\n",
      "buzz\n",
      "92\n",
      "93\n",
      "94\n",
      "bizz\n",
      "96\n",
      "97\n",
      "buzz\n",
      "99\n"
     ]
    }
   ],
   "source": [
    "for i in range(1,100):\n",
    "    if (i % 5 == 0) and not (i % 7 == 0):\n",
    "        print 'bizz'\n",
    "    elif (i % 7 == 0) and not (i % 5 == 0):\n",
    "        print 'buzz'\n",
    "    elif (i % 5 == 0) and (i % 7 == 0):\n",
    "        print 'bizz buzz'\n",
    "    else:\n",
    "        print i"
   ]
  },
  {
   "cell_type": "code",
   "execution_count": 21,
   "metadata": {
    "collapsed": false
   },
   "outputs": [
    {
     "name": "stdout",
     "output_type": "stream",
     "text": [
      "False\n"
     ]
    }
   ],
   "source": [
    "x = 11\n",
    "print x % 5 == 0"
   ]
  },
  {
   "cell_type": "code",
   "execution_count": 39,
   "metadata": {
    "collapsed": true
   },
   "outputs": [],
   "source": [
    "l = range(0,5)"
   ]
  },
  {
   "cell_type": "code",
   "execution_count": 43,
   "metadata": {
    "collapsed": false
   },
   "outputs": [
    {
     "name": "stdout",
     "output_type": "stream",
     "text": [
      "[0, 1, 2, 3, 4, 6]\n"
     ]
    }
   ],
   "source": [
    "l.append(6)\n",
    "print l"
   ]
  },
  {
   "cell_type": "code",
   "execution_count": 46,
   "metadata": {
    "collapsed": false
   },
   "outputs": [
    {
     "name": "stdout",
     "output_type": "stream",
     "text": [
      "[0, 1, 2, 3, 4, 6, 5, 4, 3]\n"
     ]
    }
   ],
   "source": [
    "print (range(0,5) + [6,5,4,3])"
   ]
  },
  {
   "cell_type": "code",
   "execution_count": null,
   "metadata": {
    "collapsed": true
   },
   "outputs": [],
   "source": []
  }
 ],
 "metadata": {
  "kernelspec": {
   "display_name": "Python 2",
   "language": "python",
   "name": "python2"
  },
  "language_info": {
   "codemirror_mode": {
    "name": "ipython",
    "version": 2
   },
   "file_extension": ".py",
   "mimetype": "text/x-python",
   "name": "python",
   "nbconvert_exporter": "python",
   "pygments_lexer": "ipython2",
   "version": "2.7.12"
  }
 },
 "nbformat": 4,
 "nbformat_minor": 1
}
