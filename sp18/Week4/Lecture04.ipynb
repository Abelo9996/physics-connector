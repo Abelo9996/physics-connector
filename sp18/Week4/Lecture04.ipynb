{
 "cells": [
  {
   "cell_type": "markdown",
   "metadata": {
    "deletable": true,
    "editable": true
   },
   "source": [
    "# Lecture 4\n",
    "\n",
    "### File I/O\n",
    "\n",
    "Most material developed by Jennifer Barnes for Phys77, Spring '16"
   ]
  },
  {
   "cell_type": "markdown",
   "metadata": {
    "deletable": true,
    "editable": true
   },
   "source": [
    "In this notebook, we're going to explore some ways that we can store data in files, and extract data from files."
   ]
  },
  {
   "cell_type": "code",
   "execution_count": 1,
   "metadata": {
    "collapsed": false,
    "deletable": true,
    "editable": true
   },
   "outputs": [
    {
     "name": "stdout",
     "output_type": "stream",
     "text": [
      "Populating the interactive namespace from numpy and matplotlib\n"
     ]
    }
   ],
   "source": [
    "%pylab inline"
   ]
  },
  {
   "cell_type": "markdown",
   "metadata": {
    "deletable": true,
    "editable": true
   },
   "source": [
    "### Part I: ASCII files"
   ]
  },
  {
   "cell_type": "markdown",
   "metadata": {
    "deletable": true,
    "editable": true
   },
   "source": [
    "Think of ASCII files as text files. You can open them using a text editor (like vim or emacs in Unix, or Notepad in Windows) and read the information they contain directly. There are a few ways to produce these files, and to read them once they've been produced. In Python, the simplest way is to use file objects. \n",
    "\n",
    "Let's give it a try. We create a file object by calling the function `open( filename, access_mode )` and assigning its return value to a variable (usually `f`). The argument `filename` just specifices the name of the file we're interested in, and `access_mode` tells Python what we plan to do with that file:  \n",
    "    'r': read the file  \n",
    "    'w': write to the file (creates a new file, or clears an existing file)\n",
    "    'a': append the file  \n",
    "     \n",
    "Note that both arguments should be strings.\n",
    "For full syntax and special arguments, see documentation at https://docs.python.org/2/library/functions.html#open"
   ]
  },
  {
   "cell_type": "code",
   "execution_count": 2,
   "metadata": {
    "collapsed": true,
    "deletable": true,
    "editable": true
   },
   "outputs": [],
   "source": [
    "f = open( 'welcome.txt', 'w' )"
   ]
  },
  {
   "cell_type": "markdown",
   "metadata": {
    "deletable": true,
    "editable": true
   },
   "source": [
    "A note of caution: as soon as you call `open()`, Python creates a new file with the name you pass to it. Python will overwrite existing files if you open a file of the same name in write ('`w`') mode."
   ]
  },
  {
   "cell_type": "markdown",
   "metadata": {
    "deletable": true,
    "editable": true
   },
   "source": [
    "Now we can write to the file using `f.write( thing_to_write )`. We can write anything we want, but it must be formatted as a string."
   ]
  },
  {
   "cell_type": "code",
   "execution_count": 3,
   "metadata": {
    "collapsed": true,
    "deletable": true,
    "editable": true
   },
   "outputs": [],
   "source": [
    "topics = ['Data types', 'Loops', 'Functions', 'Arrays', 'Plotting', 'Statistics']"
   ]
  },
  {
   "cell_type": "code",
   "execution_count": 4,
   "metadata": {
    "collapsed": true,
    "deletable": true,
    "editable": true
   },
   "outputs": [],
   "source": [
    "f.write( 'Welcome to Physics 77, Fall 2016\\n' ) # the newline command \\n tells Python to start a new line\n",
    "f.write( 'Topics we will learn about include:\\n' )\n",
    "for top in topics:\n",
    "    f.write( top + '\\n')\n",
    "f.close()                                         # don't forget this part!"
   ]
  },
  {
   "cell_type": "markdown",
   "metadata": {
    "deletable": true,
    "editable": true
   },
   "source": [
    "We can then read the data back out again:"
   ]
  },
  {
   "cell_type": "code",
   "execution_count": 6,
   "metadata": {
    "collapsed": false,
    "deletable": true,
    "editable": true
   },
   "outputs": [
    {
     "name": "stdout",
     "output_type": "stream",
     "text": [
      "Welcome to Physics 77, Fall 2016\n",
      "Topics we will learn about include:\n",
      "Data types\n",
      "Loops\n",
      "Functions\n",
      "Arrays\n",
      "Plotting\n",
      "Statistics\n"
     ]
    }
   ],
   "source": [
    "f = open( 'welcome.txt', 'r' )\n",
    "for line in f:\n",
    "    print (line.strip())\n",
    "f.close()"
   ]
  },
  {
   "cell_type": "markdown",
   "metadata": {
    "deletable": true,
    "editable": true
   },
   "source": [
    "There are also shortcuts available, if we only want to read in some of the data:"
   ]
  },
  {
   "cell_type": "code",
   "execution_count": 7,
   "metadata": {
    "collapsed": false,
    "deletable": true,
    "editable": true
   },
   "outputs": [
    {
     "name": "stdout",
     "output_type": "stream",
     "text": [
      "['Data types', 'Loops', 'Functions', 'Arrays', 'Plotting', 'Statistics']\n"
     ]
    }
   ],
   "source": [
    "f = open( 'welcome.txt', 'r' )\n",
    "f.readline()\n",
    "f.readline() # skip the first two lines\n",
    "topicList = [line.strip() for line in f]\n",
    "#topicList = [line for line in f]\n",
    "f.close()\n",
    "print (topicList)"
   ]
  },
  {
   "cell_type": "markdown",
   "metadata": {
    "deletable": true,
    "editable": true
   },
   "source": [
    "Python reads in spacing commands from files as well as strings. The `.strip()` just tells Python to ignore those spacing commands. What happens if you remove it from the code above?"
   ]
  },
  {
   "cell_type": "markdown",
   "metadata": {
    "deletable": true,
    "editable": true
   },
   "source": [
    "#### Numerical data"
   ]
  },
  {
   "cell_type": "markdown",
   "metadata": {
    "deletable": true,
    "editable": true
   },
   "source": [
    "For the most part, our ASCII files will contain numeric information, not strings. These can be somewhat trickier to read in. Let's read in a file I produced in another program, that contains results from a BaBar experiment, where we searched for a \"dark photon\" produced in e+e- collisions. The data are presented in two columns: \n",
    "  mass charge"
   ]
  },
  {
   "cell_type": "code",
   "execution_count": 14,
   "metadata": {
    "collapsed": true,
    "deletable": true,
    "editable": true
   },
   "outputs": [],
   "source": [
    "f = open('BaBar_2016.dat', 'r')\n",
    "# read each line, split the data wherever there's a blank space,\n",
    "# and convert the values to floats\n",
    "mass = []\n",
    "charge = []\n",
    "for line in f:\n",
    "    m, c = [float(dat) for dat in line.split()]\n",
    "    mass.append(m)\n",
    "    charge.append(c**2*1e6)\n",
    "f.close()"
   ]
  },
  {
   "cell_type": "markdown",
   "metadata": {
    "deletable": true,
    "editable": true
   },
   "source": [
    "We got it; let's plot it!"
   ]
  },
  {
   "cell_type": "code",
   "execution_count": 16,
   "metadata": {
    "collapsed": false,
    "deletable": true,
    "editable": true
   },
   "outputs": [
    {
     "data": {
      "image/png": "[encoded data removed]",
      "text/plain": [
       "<matplotlib.figure.Figure at 0x7fa022c46048>"
      ]
     },
     "metadata": {},
     "output_type": "display_data"
    }
   ],
   "source": [
    "import matplotlib.pyplot as plt\n",
    "%matplotlib inline\n",
    "\n",
    "plt.plot(mass, charge, 'r-' )\n",
    "plt.xlim(0, 8)\n",
    "plt.ylim(0, 3)\n",
    "plt.xlabel('mass (GeV)')\n",
    "plt.ylabel('charge**2 (1e-6), 90% C.L. limit')\n",
    "plt.show()"
   ]
  },
  {
   "cell_type": "markdown",
   "metadata": {
    "deletable": true,
    "editable": true
   },
   "source": [
    "If only there were an easier way!"
   ]
  },
  {
   "cell_type": "markdown",
   "metadata": {
    "deletable": true,
    "editable": true
   },
   "source": [
    "Fortunately, Python's `numpy` library has functions for converting file information into numpy arrays, which can be easily analyzed and plotted. The above can be accomplished with a lot less code (and a lot less head scratching!)"
   ]
  },
  {
   "cell_type": "markdown",
   "metadata": {
    "deletable": true,
    "editable": true
   },
   "source": [
    "The `genfromtxt` function takes as it's argument the name of the file you want to load, and any optional arguments you want to add to help with the loading and formatting process. Some of the most useful optional arguments are:  \n",
    "\n",
    "  **dtype**: data type of the resulting array  \n",
    "  **comments**: the character that indicates the start of a comment (e.g. '#')  \n",
    "              lines following  these characters will be ignored, and not read into the array  \n",
    "  **delimiter**: the character used to separate values. Often, it's whitespace,   \n",
    "   but it could also be ',', '|', or others  \n",
    "  **skip_header**: how many lines to skip at the beginning of the file  \n",
    "  **skip_footer**: how many lines to skip at the end of the file  \n",
    "  **use_cols**: which columns to load and which to ignore  \n",
    "  **unpack**: If True (the default is False), the array is transposed \n",
    "    (i.e., you can a set of columns, not a set of rows.) You can accomplish the same thing with `genfromtxt( file, opt_args,...).T`"
   ]
  },
  {
   "cell_type": "code",
   "execution_count": 17,
   "metadata": {
    "collapsed": false,
    "deletable": true,
    "editable": true
   },
   "outputs": [
    {
     "data": {
      "image/png": "[encoded data removed]",
      "text/plain": [
       "<matplotlib.figure.Figure at 0x7fa022cf4630>"
      ]
     },
     "metadata": {},
     "output_type": "display_data"
    }
   ],
   "source": [
    "import numpy as np\n",
    "mass, charge = np.loadtxt('BaBar_2016.dat', unpack = True)\n",
    "plt.plot(mass, charge,'r-')\n",
    "plt.xlim(0, 8)\n",
    "plt.ylim(0, 2e-3)\n",
    "plt.xlabel('mass (GeV)')\n",
    "plt.ylabel('charge, 90% C.L. limit')\n",
    "plt.show()"
   ]
  },
  {
   "cell_type": "markdown",
   "metadata": {
    "deletable": true,
    "editable": true
   },
   "source": [
    "### Part II: CSV"
   ]
  },
  {
   "cell_type": "markdown",
   "metadata": {
    "deletable": true,
    "editable": true
   },
   "source": [
    "CSV stands for Comma Separated Values. Python's `csv` module allows easy reading and writing of sequences. CSV is especially useful for loading data from spreadsheets and databases."
   ]
  },
  {
   "cell_type": "markdown",
   "metadata": {
    "deletable": true,
    "editable": true
   },
   "source": [
    "Let's make a list and write a file!  \n",
    "First, we load the module"
   ]
  },
  {
   "cell_type": "code",
   "execution_count": 18,
   "metadata": {
    "collapsed": true,
    "deletable": true,
    "editable": true
   },
   "outputs": [],
   "source": [
    "import csv"
   ]
  },
  {
   "cell_type": "markdown",
   "metadata": {
    "deletable": true,
    "editable": true
   },
   "source": [
    "Next, we create a file object that opens the file we want to write to.  \n",
    "Then, we create a *csv writer*, a special object that is built specificly to write\n",
    "sequences to our csv file."
   ]
  },
  {
   "cell_type": "code",
   "execution_count": 19,
   "metadata": {
    "collapsed": true,
    "deletable": true,
    "editable": true
   },
   "outputs": [],
   "source": [
    "f_csv = open( 'nationData.csv', 'w' )\n",
    "SAWriter = csv.writer( f_csv,                 # write to this file object\n",
    "                           delimiter = '|',          # place verticle bar between items we write\n",
    "                           quotechar = '',           # Don't place quotes around strings\n",
    "                           quoting = csv.QUOTE_NONE )# made up of multiple words "
   ]
  },
  {
   "cell_type": "markdown",
   "metadata": {
    "deletable": true,
    "editable": true
   },
   "source": [
    "Now let's write some data:"
   ]
  },
  {
   "cell_type": "code",
   "execution_count": 20,
   "metadata": {
    "collapsed": true,
    "deletable": true,
    "editable": true
   },
   "outputs": [],
   "source": [
    "countries = ['Argentina', 'Bolivia', 'Brazil', 'Chile', 'Colombia', 'Ecuador', 'Guyana',\\\n",
    "             'Paraguay', 'Peru', 'Suriname', 'Uruguay', 'Venezuela']\n",
    "capitals = ['Buenos Aires', 'Sucre', 'Brasília', 'Santiago', 'Bogotá', 'Quito', 'Georgetown',\\\n",
    "             'Asunción', 'Lima', 'Paramaribo', 'Montevideo', 'Caracas']\n",
    "population_mils = [ 42.8, 10.1, 203.4, 16.9, 46.4, 15.0, 0.7, 6.5, 29.2, 0.5,\\\n",
    "                      3.3, 27.6]"
   ]
  },
  {
   "cell_type": "code",
   "execution_count": 21,
   "metadata": {
    "collapsed": true,
    "deletable": true,
    "editable": true
   },
   "outputs": [],
   "source": [
    "SAWriter.writerow(['Data on South American Nations'])\n",
    "SAWriter.writerow(['Country', 'Capital', 'Populaton (millions)'])\n",
    "for i in range(len(countries)):\n",
    "    SAWriter.writerow( [countries[i], capitals[i], population_mils[i]] )\n",
    "f_csv.close()"
   ]
  },
  {
   "cell_type": "markdown",
   "metadata": {
    "deletable": true,
    "editable": true
   },
   "source": [
    "Now let's see if we can open your file using a SpreadSheet program. If you don't have access to one, find someone who does!   \n",
    "\n",
    "* Open Microsoft Excell, and select \"Import Data.\"  \n",
    "* Locate nationData.csv in the list of files that pops up.  \n",
    "* Select the \"Delimited\" Option in the next dialog box, and hit \"Next\"\n",
    "* Enter the appropriate delimiter in the next pop-up box, and hit finish.\n",
    "\n",
    "How did we do?"
   ]
  },
  {
   "cell_type": "markdown",
   "metadata": {
    "deletable": true,
    "editable": true
   },
   "source": [
    "We can use a similar process to read data into Python from a csv file. Let's read in a list of the most populous cities and store them for analysis."
   ]
  },
  {
   "cell_type": "code",
   "execution_count": 22,
   "metadata": {
    "collapsed": true,
    "deletable": true,
    "editable": true
   },
   "outputs": [],
   "source": [
    "cities = []\n",
    "cityPops = []\n",
    "metroPops = []"
   ]
  },
  {
   "cell_type": "code",
   "execution_count": 24,
   "metadata": {
    "collapsed": false,
    "deletable": true,
    "editable": true
   },
   "outputs": [
    {
     "name": "stdout",
     "output_type": "stream",
     "text": [
      "Shanghai, China, 24.3, 24.8\n",
      "Karachi, Pakistan, 15, \n",
      "Lagos, Nigeria, 21.3, 21\n",
      "Delhi, India, 16.8, 21.8\n",
      "Istanbul, Turkey, 14.4, 14.4\n",
      "Tokyo, Japan, 13.3, 36.9\n",
      "Mumbai, India, 12.5, 20.7\n",
      "Moscow, Russia, 12.2, \n",
      "Sao Paulo, Brazil, 11.9, 20.9\n",
      "Beijing, China, 21.5, 21.1\n",
      "Shenzhen, China, 10.8, 10.6\n",
      "Seoul, South Korea, 10.3, 25.6\n",
      "Jakarta, Indonesia, 10, 10.1\n",
      "Lahore, Pakistan, , 10.1\n",
      "Guangzhou, China, 9.9, 23.9\n",
      "Kinshasa, Dem. Rep. Congo, 9.7, \n",
      "Cairo, Egypt, 9.3, \n",
      "Mexico City, Mexico, 8.9, 21.2\n",
      "Lima, Peru, 8.7, 9.9\n",
      "London, United Kingdom, 8.5, 14\n",
      "New York City, United States, 8.5, 20.1\n",
      "Bengaluru, India, 8.4, 8.7\n",
      "Bangcock, Thailand, 8.3, 8.3\n",
      "Dongguan, China, 8.2, \n",
      "Chongqing, China, 8.2, \n"
     ]
    },
    {
     "name": "stderr",
     "output_type": "stream",
     "text": [
      "/srv/app/venv/lib/python3.6/site-packages/ipykernel_launcher.py:1: DeprecationWarning: 'U' mode is deprecated\n",
      "  \"\"\"Entry point for launching an IPython kernel.\n"
     ]
    }
   ],
   "source": [
    "f_csv = open( 'cities.csv', 'rU')\n",
    "readCity = csv.reader( f_csv, delimiter = ',' )\n",
    "next(readCity) # skip the header row\n",
    "for row in readCity:\n",
    "    print (', '.join(row)) # join the element of the list together, with the strng ',' in between\n",
    "    city_country = ', '.join(row[0:2])\n",
    "    cities.append(city_country)\n",
    "    if row[2] != '':\n",
    "        cityPops.append( float(row[2]) )\n",
    "    else: cityPops.append(-1)\n",
    "    if row[3] != '':\n",
    "        metroPops.append( float(row[3]) )\n",
    "    else: metroPops.append(-1)\n",
    "f_csv.close()"
   ]
  },
  {
   "cell_type": "code",
   "execution_count": 25,
   "metadata": {
    "collapsed": false,
    "deletable": true,
    "editable": true
   },
   "outputs": [
    {
     "name": "stdout",
     "output_type": "stream",
     "text": [
      "The five most populous cities (within city proper) are:\n",
      "\n",
      "Shanghai, China with a population of 24.3 million\n",
      "Beijing, China with a population of 21.5 million\n",
      "Lagos, Nigeria with a population of 21.3 million\n",
      "Delhi, India with a population of 16.8 million\n",
      "Karachi, Pakistan with a population of 15.0 million\n",
      "\n",
      "The five most populous metropolitan regions in the world are:\n",
      "\n",
      "Tokyo, Japan with a metro population of 36.9 million\n",
      "Seoul, South Korea with a metro population of 25.6 million\n",
      "Shanghai, China with a metro population of 24.8 million\n",
      "Guangzhou, China with a metro population of 23.9 million\n",
      "Delhi, India with a metro population of 21.8 million\n"
     ]
    }
   ],
   "source": [
    "metroPops, cityPops = np.array(metroPops), np.array(cityPops)\n",
    "cIds = np.argsort(cityPops)[::-1] # sort in descending order\n",
    "mIds= np.argsort(metroPops)[::-1]\n",
    "\n",
    "print (\"The five most populous cities (within city proper) are:\\n\")\n",
    "for j in range(5):\n",
    "        print (cities[cIds[j]], \"with a population of {} million\".format(cityPops[cIds[j]]))\n",
    "\n",
    "print (\"\\nThe five most populous metropolitan regions in the world are:\\n\")\n",
    "for i in range(5):\n",
    "        print (cities[mIds[i]], \"with a metro population of {} million\".format(metroPops[mIds[i]]))\n"
   ]
  },
  {
   "cell_type": "markdown",
   "metadata": {
    "collapsed": true,
    "deletable": true,
    "editable": true
   },
   "source": [
    "### Binary files"
   ]
  },
  {
   "cell_type": "markdown",
   "metadata": {
    "deletable": true,
    "editable": true
   },
   "source": [
    "So far, we've been dealing with text files. If you opened these files up with a text editor, you could see what was written in them. Binary files are different. They're written in a form that Python (and other languages) understand how to read, but we can't access them directly.  The most common binary file you'll encounter in python is a *.npy* file, which stores numpy arrays. You can create these files using the command `np.save( filename, arr )`. That command will store the array `arr` as a file called filename, which should have the extension .npy. We can then reload the data with the command `np.load(filename)`"
   ]
  },
  {
   "cell_type": "code",
   "execution_count": 26,
   "metadata": {
    "collapsed": true,
    "deletable": true,
    "editable": true
   },
   "outputs": [],
   "source": [
    "x = np.linspace(-1, 1.0, 100)\n",
    "y = np.sin(10*x)*np.exp(-x) - x\n",
    "xy = np.hstack((x,y))"
   ]
  },
  {
   "cell_type": "code",
   "execution_count": 27,
   "metadata": {
    "collapsed": true,
    "deletable": true,
    "editable": true
   },
   "outputs": [],
   "source": [
    "# save the array\n",
    "np.save('y_of_x.npy', xy )"
   ]
  },
  {
   "cell_type": "code",
   "execution_count": 28,
   "metadata": {
    "collapsed": true,
    "deletable": true,
    "editable": true
   },
   "outputs": [],
   "source": [
    "del x, y, xy # erase these variables from Python's memory"
   ]
  },
  {
   "cell_type": "markdown",
   "metadata": {
    "deletable": true,
    "editable": true
   },
   "source": [
    "Now reload the data and check that you can use it just as before."
   ]
  },
  {
   "cell_type": "code",
   "execution_count": 29,
   "metadata": {
    "collapsed": false,
    "deletable": true,
    "editable": true
   },
   "outputs": [
    {
     "name": "stdout",
     "output_type": "stream",
     "text": [
      "200\n",
      "100 100\n"
     ]
    },
    {
     "data": {
      "text/plain": [
       "[<matplotlib.lines.Line2D at 0x7fa022aac550>]"
      ]
     },
     "execution_count": 29,
     "metadata": {},
     "output_type": "execute_result"
    },
    {
     "data": {
      "image/png": "[encoded data removed]",
      "text/plain": [
       "<matplotlib.figure.Figure at 0x7fa022acb7f0>"
      ]
     },
     "metadata": {},
     "output_type": "display_data"
    }
   ],
   "source": [
    "xy = np.load('y_of_x.npy')\n",
    "print (len(xy))\n",
    "x = xy[:100]\n",
    "y = xy[100:]\n",
    "print (len(x),len(y))\n",
    "\n",
    "plt.plot(x,y,'r-')"
   ]
  },
  {
   "cell_type": "markdown",
   "metadata": {
    "deletable": true,
    "editable": true
   },
   "source": [
    "### HDF5 Files"
   ]
  },
  {
   "cell_type": "markdown",
   "metadata": {
    "deletable": true,
    "editable": true
   },
   "source": [
    "HDF5 files are ideally suited for managing large amounts of complex data. Python can read them using the module `h5py.`"
   ]
  },
  {
   "cell_type": "code",
   "execution_count": 30,
   "metadata": {
    "collapsed": true,
    "deletable": true,
    "editable": true
   },
   "outputs": [],
   "source": [
    "import h5py"
   ]
  },
  {
   "cell_type": "markdown",
   "metadata": {
    "deletable": true,
    "editable": true
   },
   "source": [
    "Let's load our first hdf5 file:"
   ]
  },
  {
   "cell_type": "code",
   "execution_count": 31,
   "metadata": {
    "collapsed": true,
    "deletable": true,
    "editable": true
   },
   "outputs": [],
   "source": [
    "fh5 = h5py.File( 'solar.h5py', 'r' )"
   ]
  },
  {
   "cell_type": "markdown",
   "metadata": {
    "deletable": true,
    "editable": true
   },
   "source": [
    "hdf5 files are made up of data sets. Each data set has a name, or a key. Let's take a look at our data sets:"
   ]
  },
  {
   "cell_type": "code",
   "execution_count": 33,
   "metadata": {
    "collapsed": false,
    "deletable": true,
    "editable": true
   },
   "outputs": [
    {
     "name": "stdout",
     "output_type": "stream",
     "text": [
      "TOrbit_yr\n",
      "density\n",
      "mass_earthM\n",
      "names\n",
      "solar_AU\n",
      "surfT_K\n"
     ]
    }
   ],
   "source": [
    "for k in fh5.keys(): # loop through the keys\n",
    "    print (k)"
   ]
  },
  {
   "cell_type": "markdown",
   "metadata": {
    "deletable": true,
    "editable": true
   },
   "source": [
    "We access the data sets in our file by name:"
   ]
  },
  {
   "cell_type": "code",
   "execution_count": 34,
   "metadata": {
    "collapsed": false,
    "deletable": true,
    "editable": true
   },
   "outputs": [
    {
     "name": "stdout",
     "output_type": "stream",
     "text": [
      "b'Mercury'\n",
      "b'Venus'\n",
      "b'Earth'\n",
      "b'Mars'\n",
      "b'Jupiter'\n",
      "b'Saturn'\n",
      "b'Uranus'\n",
      "b'Neptune'\n"
     ]
    }
   ],
   "source": [
    "for nm in fh5[\"names\"]: # make sure to include the quotation marks!\n",
    "    print (nm)"
   ]
  },
  {
   "cell_type": "markdown",
   "metadata": {
    "deletable": true,
    "editable": true
   },
   "source": [
    "It looks like we've got some planet data on our hands!  \n",
    "Names is a special case, in that it's elements are strings. The other data sets contain float values, and can be treated like numpy arrays."
   ]
  },
  {
   "cell_type": "code",
   "execution_count": 35,
   "metadata": {
    "collapsed": false,
    "deletable": true,
    "editable": true
   },
   "outputs": [
    {
     "name": "stdout",
     "output_type": "stream",
     "text": [
      "[  0.38709894   1.00000012   5.20336294  19.1912632 ]\n",
      "440.0\n"
     ]
    }
   ],
   "source": [
    "print (fh5[\"solar_AU\"][::2])\n",
    "print (fh5[\"surfT_K\"][fh5[\"names\"]=='Earth'])"
   ]
  },
  {
   "cell_type": "markdown",
   "metadata": {
    "deletable": true,
    "editable": true
   },
   "source": [
    "Let's make a plot of the solar system that shows each planet's:  \n",
    "* distance from the sun (position on the x-axis)\n",
    "* orbital period (position on the y-axis\n",
    "* mass (size of scatter plot marker)\n",
    "* surface temperature (color of marker)\n",
    "* density (transparency (or alpha, in matplotlib language))"
   ]
  },
  {
   "cell_type": "code",
   "execution_count": 36,
   "metadata": {
    "collapsed": true,
    "deletable": true,
    "editable": true
   },
   "outputs": [],
   "source": [
    "distAU = fh5[\"solar_AU\"][:]\n",
    "mass = fh5[\"mass_earthM\"][:]\n",
    "torb = fh5[\"TOrbit_yr\"][:]\n",
    "temp = fh5[\"surfT_K\"][:]\n",
    "rho = fh5[\"density\"][:]\n",
    "names = fh5[\"names\"][:]"
   ]
  },
  {
   "cell_type": "code",
   "execution_count": 37,
   "metadata": {
    "collapsed": true,
    "deletable": true,
    "editable": true
   },
   "outputs": [],
   "source": [
    "def get_size( ms ):\n",
    "    m = 400.0/(np.max(mass) - np.min(mass))\n",
    "    return 100.0 + (ms - np.min(mass))*m \n",
    "def get_alpha( p ):\n",
    "    m = .9/(np.max(rho)-np.min(rho))\n",
    "    return .1+(p - np.min(rho))*m"
   ]
  },
  {
   "cell_type": "code",
   "execution_count": 38,
   "metadata": {
    "collapsed": true,
    "deletable": true,
    "editable": true
   },
   "outputs": [],
   "source": [
    "alfs = get_alpha(rho)"
   ]
  },
  {
   "cell_type": "code",
   "execution_count": 39,
   "metadata": {
    "collapsed": false,
    "deletable": true,
    "editable": true
   },
   "outputs": [
    {
     "data": {
      "text/plain": [
       "<matplotlib.text.Text at 0x7fa01eef0ef0>"
      ]
     },
     "execution_count": 39,
     "metadata": {},
     "output_type": "execute_result"
    },
    {
     "data": {
      "image/png": "[encoded data removed]",
      "text/plain": [
       "<matplotlib.figure.Figure at 0x7fa01ef3b240>"
      ]
     },
     "metadata": {},
     "output_type": "display_data"
    }
   ],
   "source": [
    "norm = mpl.colors.Normalize(vmin=np.min(temp), vmax=np.max(temp))\n",
    "cmap = plt.cm.cool\n",
    "m = plt.cm.ScalarMappable(norm=norm, cmap=cmap)\n",
    "\n",
    "fig, ax = plt.subplots(1)\n",
    "for i in range(8):\n",
    "    ax.scatter( distAU[i], torb[i], s = get_size(mass[i]), color = m.to_rgba(temp[i]), alpha=alfs[i] ) \n",
    "ax.set_xscale('log')\n",
    "ax.set_yscale('log')\n",
    "ax.set_ylim(-5,200)\n",
    "ax.set_ylabel( 'orbital period (y)' )\n",
    "ax.set_xlabel( 'average dist. from sun (AU)' )\n",
    "ax.set_title( 'Our solar system' )"
   ]
  },
  {
   "cell_type": "markdown",
   "metadata": {
    "deletable": true,
    "editable": true
   },
   "source": [
    "If you ever want to write your own HDF5 file, you can open an h5py file object by calling:  \n",
    "\n",
    "    fh5 = h5py.File('filename.h5py', 'w')  \n",
    "    \n",
    "Data sets are created with\n",
    "\n",
    "    dset = fh5.create_dataset( \"dset_name\", (shape,))\n",
    "    \n",
    "The default data type is float.  \n",
    "The values for the data set are then set with:  \n",
    "\n",
    "    dset[...] = (  )  \n",
    "    \n",
    "where the parenthesis contain an array or similar data of the correct shape. After you've added all your data sets, close the file with  \n",
    "\n",
    "    fh5.close()  \n",
    "If you have extra time, try creating your own data set and read it back in to verify that you've done it correctly!"
   ]
  },
  {
   "cell_type": "markdown",
   "metadata": {
    "collapsed": true,
    "deletable": true,
    "editable": true
   },
   "source": [
    "### Pandas"
   ]
  },
  {
   "cell_type": "markdown",
   "metadata": {
    "deletable": true,
    "editable": true
   },
   "source": [
    "There are more sophisticated tools to store and process the data. We will look at Pandas example "
   ]
  }
 ],
 "metadata": {
  "kernelspec": {
   "display_name": "Python 3",
   "language": "python",
   "name": "python3"
  },
  "language_info": {
   "codemirror_mode": {
    "name": "ipython",
    "version": 3
   },
   "file_extension": ".py",
   "mimetype": "text/x-python",
   "name": "python",
   "nbconvert_exporter": "python",
   "pygments_lexer": "ipython3",
   "version": "3.5.2"
  }
 },
 "nbformat": 4,
 "nbformat_minor": 1
}
