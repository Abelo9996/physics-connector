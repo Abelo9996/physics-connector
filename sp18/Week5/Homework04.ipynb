{
 "cells": [
  {
   "cell_type": "markdown",
   "metadata": {
    "deletable": true,
    "editable": true
   },
   "source": [
    "Your name here.  \n",
    "Your Woskshop section here."
   ]
  },
  {
   "cell_type": "markdown",
   "metadata": {
    "collapsed": true,
    "deletable": true,
    "editable": true
   },
   "source": [
    "# Homework 4: File I/O, Statistics"
   ]
  },
  {
   "cell_type": "markdown",
   "metadata": {
    "deletable": true,
    "editable": true
   },
   "source": [
    "#### ** Submit this notebook to bourses to receive a credit for this assignment. **\n",
    "\n",
    "Please complete this homework assignment in code cells in the iPython notebook. Include comments in your code when necessary. Enter your name in the cell at the top of the notebook, and rename the notebook [email_name]_Homework04.ipynb, where [email_name] is the part of your UCB email address that precedes \"@berkeley.edu\" "
   ]
  },
  {
   "cell_type": "markdown",
   "metadata": {},
   "source": [
    "## Problem 1: Central Limit Theorem"
   ]
  },
  {
   "cell_type": "markdown",
   "metadata": {},
   "source": [
    "Here we will verify the Central Limit Theorem and reproduced a plot I showed in class (https://en.wikipedia.org/wiki/Central_limit_theorem#/media/File:Dice_sum_central_limit_theorem.svg)"
   ]
  },
  {
   "cell_type": "markdown",
   "metadata": {},
   "source": [
    "1. Write a function that returns $n$ integer random numbers, uniformy disributed between 1 and 6, inclusively. This represents $n$ throws of a fair 6-sided die. \n",
    "1. Generate a distribution of 1000 dice throws and plot it as a  histogram normalized to unit area. Compute the mean $\\mu_1$ and standard deviation $\\sigma_1$ of this distribution. Compare your numerical result to the analytical calculation. \n",
    "1. Generate 1000 sets of throws of $N=2,3,4,5,10$ dice, computing the total sum of dice scores for each set. For each $N$, plot the distribition of total scores, and compute the mean $\\mu_N$ and standard deviation $\\sigma_N$ of each distribution. This should be similar to the plot at the link above.\n",
    "1. Plot the standard deviation $\\sigma_N$ as a function of $N$. Does it follow the Central Limit Theorem? "
   ]
  },
  {
   "cell_type": "code",
   "execution_count": null,
   "metadata": {
    "collapsed": true
   },
   "outputs": [],
   "source": []
  },
  {
   "cell_type": "markdown",
   "metadata": {},
   "source": [
    "## Problem 2: Parity-Violating Asymmetry"
   ]
  },
  {
   "cell_type": "markdown",
   "metadata": {},
   "source": [
    "The data sample for this problem comes from the <a href=\"http://www.slac.stanford.edu/exp/e158\">E158</a> experiment at SLAC (a national lab near that Junior university across the Bay). E158 measured a parity-violating asymmetry in Møller (electron-electron) scattering. This was a fixed-target experiment, which scattered longitudinally-polarized electrons off atomic (unpolarized) electrons in the 1.5m liquid hydrogen target. The data below contains a snapshot of 10,000 \"events\" from this experiment (overall, the experiment collected almost 400 million such events over the course of about 4 months). Each event actually records a pair of pulses: one for the right-handed electron and one for the left-handed electron. For each event, we record 4 variables:\n",
    "\n",
    "* Counter: event index\n",
    "* Asymmetry: \"raw\" cross section asymmetry $A_{raw}$ from one of the detector channels (there are 50 of these overall). The cross section asymmetry is defined as \n",
    "$A_{raw} = \\frac{\\sigma_R-\\sigma_L}{\\sigma_R+\\sigma_L}$\n",
    "The asymmtry is recorded in units of PPM (parts per million). It is called \"raw\" because corrections due to the difference in beam properties at the target are not yet applied.\n",
    "* DeltaX: difference in beam position $\\Delta X$ at the target in X direction in microns (with the convention that the beam is traveling along Z)\n",
    "* DeltaY: difference in beam position $\\Delta Y$ at the target in Y direction in microns\n",
    "\n",
    "The data sample is provided in plain text format as the file <tt>asymdata.txt</tt>. Questions for this analysis:\n",
    "\n",
    "1. Read the data from the file, and plot distributions of $A_{raw}$, $\\Delta X$, and $\\Delta Y$. \n",
    "1. Compute the mean of the raw asymmetry distribution and its statistical uncertainty.\n",
    "1. Plot $A_{raw}$ vs $\\Delta X$, $A_{raw}$ vs $\\Delta Y$, and $\\Delta X$ vs $\\Delta Y$ as scatter plots. \n",
    "1. Compute the correlation coefficients <tt>Corr(Asym,DeltaX)</tt>, <tt>Corr(Asym,DeltaY)</tt>, and <tt>Corr(DeltaX,DeltaY)</tt>. Which variables are appriximately independent of each other ?"
   ]
  },
  {
   "cell_type": "code",
   "execution_count": null,
   "metadata": {
    "collapsed": true
   },
   "outputs": [],
   "source": []
  },
  {
   "cell_type": "markdown",
   "metadata": {
    "deletable": true,
    "editable": true
   },
   "source": [
    "## Problem 3: Gamma-ray peak\n",
    "\n",
    "[Some of you may recognize this problem from Advanced Lab's Error Analysis Exercise. That's not an accident.]\n",
    "\n",
    "You are given a dataset (peak.dat) from a gamma-ray experiment consisting of ~1000 gamma-ray hits. Each line in the file corresponds to one recorded gamma-ray event, and stores the the measured energy of the gamma-ray. We will assume that the energies are randomly distributed about a common mean, and that each event is uncorrelated to others. Read the dataset from the enclosed file and:\n",
    "1. Produce a histogram of the distribution of energies. Choose the number of bins wisely, i.e. so that the width of each bin is smaller than the width of the peak, and at the same time so that the number of entries in the most populated bin is relatively large. Since this plot represents randomly-collected data, plotting error bars would be appropriate.\n",
    "1. Compute the mean and standard deviation of the distribution of energies and their statistical uncertainties. \n",
    "1. Fit the distribution to a Gaussian function, and compare the parameters of the fitted Gaussian and their uncertainties with the mean and standard deviation computed above\n",
    "1. Compute the fraction of events contained within $\\pm 1\\sigma$ of the mean, $\\pm 2\\sigma$ of the mean, and $\\pm 3\\sigma$ of the mean (where $\\sigma$ is the standard deviation you computed in part 1). Are these consistent with the quantiles of the Gaussian distribution (see lecture notes) ? \n"
   ]
  },
  {
   "cell_type": "code",
   "execution_count": null,
   "metadata": {
    "collapsed": true,
    "deletable": true,
    "editable": true
   },
   "outputs": [],
   "source": []
  }
 ],
 "metadata": {
  "kernelspec": {
   "display_name": "Python 3",
   "language": "python",
   "name": "python3"
  },
  "language_info": {
   "codemirror_mode": {
    "name": "ipython",
    "version": 3
   },
   "file_extension": ".py",
   "mimetype": "text/x-python",
   "name": "python",
   "nbconvert_exporter": "python",
   "pygments_lexer": "ipython3",
   "version": "3.5.2"
  }
 },
 "nbformat": 4,
 "nbformat_minor": 0
}
