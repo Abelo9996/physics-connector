{
 "cells": [
  {
   "cell_type": "markdown",
   "metadata": {},
   "source": [
    "# Lecture 7\n",
    "\n",
    "## Numerical Integration"
   ]
  },
  {
   "cell_type": "markdown",
   "metadata": {},
   "source": [
    "Integrate the function $g(t)=exp(−t^2)$ from -3 to 3 using various numerical techniques"
   ]
  },
  {
   "cell_type": "code",
   "execution_count": 29,
   "metadata": {},
   "outputs": [],
   "source": [
    "def Trapezoidal(f, a, b, n):\n",
    "    h = (b-a)/float(n)\n",
    "    s = 0.5*(f(a) + f(b))\n",
    "    for i in range(1,n,1):\n",
    "        s = s + f(a + i*h)\n",
    "    return h*s\n"
   ]
  },
  {
   "cell_type": "code",
   "execution_count": 30,
   "metadata": {},
   "outputs": [
    {
     "name": "stdout",
     "output_type": "stream",
     "text": [
      "1.7724146920763713\n"
     ]
    }
   ],
   "source": [
    "from math import exp\n",
    "def g1(t):\n",
    "    return exp(-t**2)\n",
    "\n",
    "a = -3;  b = 3\n",
    "n = 1000\n",
    "\n",
    "result1 = Trapezoidal(g1, a, b, n)\n",
    "print (result1)\n"
   ]
  },
  {
   "cell_type": "code",
   "execution_count": 31,
   "metadata": {},
   "outputs": [
    {
     "name": "stdout",
     "output_type": "stream",
     "text": [
      "1.77241419491\n"
     ]
    }
   ],
   "source": [
    "import numpy as np\n",
    "import math\n",
    "x=np.arange(a, b, 4./n)\n",
    "y=np.exp(-(x**2))\n",
    "res1=np.trapz(y,x)\n",
    "print (res1)"
   ]
  },
  {
   "cell_type": "code",
   "execution_count": 32,
   "metadata": {},
   "outputs": [
    {
     "name": "stdout",
     "output_type": "stream",
     "text": [
      "1.7724154369775467\n"
     ]
    }
   ],
   "source": [
    "def simpson_rule(f, a, b, n):\n",
    "    h = (b-a)/float(n)\n",
    "    s = 0.5*(f(a) + f(b))\n",
    "    for i in range(1,n,2):\n",
    "        s = s + (4*f(a + i*h)+2*f(a+(i+1)*h))/3\n",
    "    return h*s\n",
    "\n",
    "result3 = simpson_rule(g1, a, b, n)\n",
    "print (result3)"
   ]
  },
  {
   "cell_type": "code",
   "execution_count": 33,
   "metadata": {},
   "outputs": [
    {
     "name": "stdout",
     "output_type": "stream",
     "text": [
      "1.77241419693\n"
     ]
    }
   ],
   "source": [
    "from scipy.integrate import simps\n",
    "import numpy as np\n",
    "x=np.arange(a, b, 4./n)\n",
    "y=np.exp(-(x**2))\n",
    "res3=simps(y,x)\n",
    "print (res3)"
   ]
  },
  {
   "cell_type": "code",
   "execution_count": 34,
   "metadata": {},
   "outputs": [
    {
     "name": "stdout",
     "output_type": "stream",
     "text": [
      "1.7724146965190428 +/- 6.353644780437984e-11\n"
     ]
    }
   ],
   "source": [
    "from scipy.integrate import quad\n",
    "\n",
    "res4,eps=quad(g1,a,b)\n",
    "print (res4, \"+/-\", eps)"
   ]
  },
  {
   "cell_type": "code",
   "execution_count": 35,
   "metadata": {},
   "outputs": [
    {
     "name": "stdout",
     "output_type": "stream",
     "text": [
      "Trapezoid Rule              =  1.7724146920763713\n",
      "Builtin Trapezoid           =  1.77241419491\n",
      "Simpsons Rule               =  1.7724154369775467\n",
      "Builtin Simpsons Rule       =  1.77241419693\n",
      "Builtin Gaussian Quadrature =  1.7724146965190428\n"
     ]
    }
   ],
   "source": [
    "print ('Trapezoid Rule              = ', result1)\n",
    "print ('Builtin Trapezoid           = ', res1)\n",
    "print ('Simpsons Rule               = ', result3)\n",
    "print ('Builtin Simpsons Rule       = ', res3)\n",
    "print ('Builtin Gaussian Quadrature = ', res4)"
   ]
  },
  {
   "cell_type": "code",
   "execution_count": 39,
   "metadata": {},
   "outputs": [
    {
     "name": "stdout",
     "output_type": "stream",
     "text": [
      "Error Trapezoid          =  -2.5065640674171163e-09\n",
      "Error Builtin Trapezoid  =  -2.83006589608e-07\n",
      "Error Simpsons Rule      =  4.177682040307218e-07\n",
      "Error Builtin Simpsons   =  -2.81866928908e-07\n",
      "Error Builtin Gauss Quad =  4.440892098500626e-16\n"
     ]
    }
   ],
   "source": [
    "from math import sqrt, erf, pi\n",
    "\n",
    "answer = sqrt(pi)*erf(3.) \n",
    "print('Error Trapezoid          = ',result1/answer-1)\n",
    "print('Error Builtin Trapezoid  = ',res1/answer-1)\n",
    "print('Error Simpsons Rule      = ',result3/answer-1)\n",
    "print('Error Builtin Simpsons   = ',res3/answer-1)\n",
    "print('Error Builtin Gauss Quad = ',res4/answer-1)"
   ]
  },
  {
   "cell_type": "code",
   "execution_count": null,
   "metadata": {},
   "outputs": [],
   "source": []
  }
 ],
 "metadata": {
  "kernelspec": {
   "display_name": "Python 3",
   "language": "python",
   "name": "python3"
  },
  "language_info": {
   "codemirror_mode": {
    "name": "ipython",
    "version": 3
   },
   "file_extension": ".py",
   "mimetype": "text/x-python",
   "name": "python",
   "nbconvert_exporter": "python",
   "pygments_lexer": "ipython3",
   "version": "3.6.1"
  }
 },
 "nbformat": 4,
 "nbformat_minor": 1
}
