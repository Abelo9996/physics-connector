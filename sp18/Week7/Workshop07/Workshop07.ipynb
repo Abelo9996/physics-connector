{
 "cells": [
  {
   "cell_type": "markdown",
   "metadata": {},
   "source": [
    "# Workshop 7: Numerical differentiation and integration"
   ]
  },
  {
   "cell_type": "markdown",
   "metadata": {},
   "source": [
    "The lecture this week introduced you to the first application of numerical techniques. We will explore the applications to Python in this workshop. "
   ]
  },
  {
   "cell_type": "markdown",
   "metadata": {},
   "source": [
    "## OkPy Submission Instructions\n",
    "\n",
    "In this lab, we will use OkPy to submit assignments, and also to grade them. At the end of the iPython notebook, you will find a line of code `_ = ok.submit()` that you **must run to submit your assignment to OkPy**. You can run this lines of code multiple times to submit revisions up until the deadline.\n",
    "\n",
    "You must also run the very first code block that imports the OkPy modules needed to submit your assignment."
   ]
  },
  {
   "cell_type": "code",
   "execution_count": null,
   "metadata": {
    "collapsed": true
   },
   "outputs": [],
   "source": [
    "# Don't change this cell; just run it. \n",
    "from client.api.notebook import Notebook\n",
    "ok = Notebook('Workshop07.ok')\n",
    "_ = ok.auth(inline=True)"
   ]
  },
  {
   "cell_type": "markdown",
   "metadata": {},
   "source": [
    "## Numerical differentiation"
   ]
  },
  {
   "cell_type": "markdown",
   "metadata": {
    "collapsed": true
   },
   "source": [
    "First, let's do differentiation \"by hand\" using loops, which is illustrative. Some examples borrowed (and modified) from http://gilgamesh.cheme.cmu.edu/doc/software/jacapo/9-numerics/9.1-numpy\n",
    "\n",
    "These are examples of the \"brute force\" differentiation. They work well for a smooth vector, i.e. if there is not much \"noise\" on top of the function you are trying to differentiate. "
   ]
  },
  {
   "cell_type": "code",
   "execution_count": null,
   "metadata": {
    "collapsed": true
   },
   "outputs": [],
   "source": [
    "from pylab import *  # imports numpy, scipy, and matplotlib (convenient)\n",
    "%matplotlib inline"
   ]
  },
  {
   "cell_type": "code",
   "execution_count": null,
   "metadata": {
    "collapsed": true
   },
   "outputs": [],
   "source": [
    "x = np.linspace(0,2*pi,1000)\n",
    "y = sin(x)\n",
    "dy_analytical = cos(x)\n",
    "\n",
    "\n",
    "# lets use a forward difference method:\n",
    "# that works up until the last point, where there is not\n",
    "# a forward difference to use. there, we use a backward difference.\n",
    "\n",
    "dyf = [0.0]*len(x)\n",
    "for i in range(len(y)-1):\n",
    "    dyf[i] = (y[i+1] - y[i])/(x[i+1]-x[i])\n",
    "#set last element by backwards difference\n",
    "dyf[-1] = (y[-1] - y[-2])/(x[-1] - x[-2])\n",
    "\n",
    "# and now a backwards difference\n",
    "\n",
    "dyb = [0.0]*len(x)\n",
    "#set first element by forward difference\n",
    "dyb[0] = (y[0] - y[1])/(x[0] - x[1])\n",
    "for i in range(1,len(y)):\n",
    "    dyb[i] = (y[i] - y[i-1])/(x[i]-x[i-1])\n",
    "\n",
    "# and now, a centered formula\n",
    "dyc = [0.0]*len(x)\n",
    "dyc[0] = (y[0] - y[1])/(x[0] - x[1])\n",
    "for i in range(1,len(y)-1):\n",
    "    dyc[i] = (y[i+1] - y[i-1])/(x[i+1]-x[i-1])\n",
    "dyc[-1] = (y[-1] - y[-2])/(x[-1] - x[-2])\n",
    "\n",
    "# compare the methods\n",
    "\n",
    "plot(x,y,label='orignal function')\n",
    "plot(x,dy_analytical,label='analytical derivative')\n",
    "plot(x,dyf,'--',label='forward')\n",
    "plot(x,dyb,'--',label='backward')\n",
    "plot(x,dyc,'--',label='centered')\n",
    "ylim(-3,1)\n",
    "legend(loc='lower left')\n",
    "show()"
   ]
  },
  {
   "cell_type": "markdown",
   "metadata": {},
   "source": [
    "### Exercise 1\n",
    "1. Plot the ratios of each numerical derivative to the analytical formula. Which method is most accurate ? \n",
    "1. Vary the number of points in the vector representing the original function (try 10, 100, 1000 steps). How does the precision change ? \n",
    "\n",
    "#### How to format answers using Markdown:\n",
    "To edit a text block, double click on it. (e.g. double click the text block saying \"Responses to Exercise 1\"). To output it as Markdown text, run the cell (via the run button or `shift-enter`). Markdown is recommended and preferred for writing your answers."
   ]
  },
  {
   "cell_type": "code",
   "execution_count": null,
   "metadata": {
    "collapsed": true
   },
   "outputs": [],
   "source": [
    "## Code here for exercise 1.1 and 1.2\n"
   ]
  },
  {
   "cell_type": "markdown",
   "metadata": {},
   "source": [
    "**Responses to Exercise 1**\n",
    "\n",
    "1.\n",
    "\n",
    "2. "
   ]
  },
  {
   "cell_type": "markdown",
   "metadata": {},
   "source": [
    "Loops are usually \"expensive\" in Python, i.e. they take a lot of computational time to process. Numpy offers some vectorized methods that allow us to compute derivatives without Python loops (i.e. loops are done internally, in a highly optimized code). This comes at the cost of a more obscure syntax:"
   ]
  },
  {
   "cell_type": "code",
   "execution_count": null,
   "metadata": {
    "collapsed": true
   },
   "outputs": [],
   "source": [
    "x = np.linspace(0,2*pi,1000)\n",
    "y = sin(x)\n",
    "dy_analytical = cos(x)\n",
    "\n",
    "# we need to specify the size of dy ahead because diff returns\n",
    "# an array of n-1 elements\n",
    "dy = zeros(y.shape,float) # we know it will be this size\n",
    "dy[0:-1] = diff(y)/np.diff(x)\n",
    "dy[-1] = (y[-1] - y[-2])/(x[-1] - x[-2])\n",
    "\n",
    "\n",
    "# calculate dy by center differencing using array slices\n",
    "\n",
    "dy2 = np.zeros(y.shape,float) #we know it will be this size\n",
    "dy2[1:-1] = (y[2:] - y[0:-2])/(x[2:] - x[0:-2])\n",
    "dy2[0] = (y[1]-y[0])/(x[1]-x[0])\n",
    "dy2[-1] = (y[-1] - y[-2])/(x[-1] - x[-2])\n",
    "\n",
    "plot(x,y,label='orignal function')\n",
    "plot(x,dy_analytical,label='analytical derivative')\n",
    "plot(x,dy,label='forward diff')\n",
    "plot(x,dy2,'k--',lw=2,label='centered diff')\n",
    "ylim(-2.5,1)\n",
    "legend(loc='lower left')\n",
    "show()\n"
   ]
  },
  {
   "cell_type": "markdown",
   "metadata": {},
   "source": [
    "SciPy offers a library function to compute derivatives along the lines of the code you just did. Here is an example of its use. See full documentation at http://docs.scipy.org/doc/scipy/reference/generated/scipy.misc.derivative.html"
   ]
  },
  {
   "cell_type": "code",
   "execution_count": null,
   "metadata": {
    "collapsed": true
   },
   "outputs": [],
   "source": [
    "from scipy.misc import derivative\n",
    "\n",
    "print(derivative(func=sin, x0=pi, dx=1e-6, n=1, order=3))"
   ]
  },
  {
   "cell_type": "markdown",
   "metadata": {},
   "source": [
    "### Exercise 2\n",
    "\n",
    "1. Compare the precision *scipy.misc.derivative* function to your \"centered diff\" calculation above. Vary parameters *dx* and *order* to see \n",
    "1. Vary parameter *n* (order of the derivative). Does the calculation of the n-th derivative behave like what you'd expect ? "
   ]
  },
  {
   "cell_type": "markdown",
   "metadata": {},
   "source": [
    "If your data are very noisy, numerical errors on computed derivatives will be large; derivatives tend to magnify noise. In these cases, you have to employ smoothing techniques, either implicitly by using a multipoint derivative formula, or explicitly by smoothing the data yourself, or taking the derivative of a function that has been fit to the data in the neighborhood you are interested in.\n",
    "\n",
    "Here is an example of a 4-point centered difference of some noisy data (courtesy http://gilgamesh.cheme.cmu.edu/doc/software/jacapo/9-numerics/9.1-numpy/9.2-integration.html#numerical-differentiation):"
   ]
  },
  {
   "cell_type": "code",
   "execution_count": null,
   "metadata": {
    "collapsed": true
   },
   "outputs": [],
   "source": [
    "x = linspace(0,2*np.pi,100)\n",
    "y = sin(x) + 0.1*random(size=x.shape)\n",
    "dy_analytical = cos(x)\n",
    "\n",
    "#2-point formula\n",
    "dyf = [0.0]*len(x)\n",
    "for i in range(len(y)-1):\n",
    "    dyf[i] = (y[i+1] - y[i])/(x[i+1]-x[i])\n",
    "#set last element by backwards difference\n",
    "dyf[-1] = (y[-1] - y[-2])/(x[-1] - x[-2])\n",
    "\n",
    "'''\n",
    "calculate dy by 4-point center differencing using array slices\n",
    "\n",
    "\\frac{y[i-2] - 8y[i-1] + 8[i+1] - y[i+2]}{12h}\n",
    "\n",
    "y[0] and y[1] must be defined by lower order methods\n",
    "and y[-1] and y[-2] must be defined by lower order methods\n",
    "'''\n",
    "\n",
    "dy = zeros(y.shape,float) #we know it will be this size\n",
    "h = x[1]-x[0] #this assumes the points are evenely spaced!\n",
    "dy[2:-2] = (y[0:-4] - 8*y[1:-3] + 8*y[3:-1] - y[4:])/(12.*h)\n",
    "\n",
    "dy[0] = (y[1]-y[0])/(x[1]-x[0])\n",
    "dy[1] = (y[2]-y[1])/(x[2]-x[1])\n",
    "dy[-2] = (y[-2] - y[-3])/(x[-2] - x[-3])\n",
    "dy[-1] = (y[-1] - y[-2])/(x[-1] - x[-2])\n",
    "\n",
    "\n",
    "plot(x,y,label='orignal function')\n",
    "plot(x,dy_analytical,label='analytical derivative')\n",
    "plot(x,dyf,'r-',label='2pt-forward diff')\n",
    "plot(x,dy,'k--',lw=2,label='4pt-centered diff')\n",
    "ylim(-5,2)\n",
    "legend(loc='lower left')\n",
    "show()\n"
   ]
  },
  {
   "cell_type": "markdown",
   "metadata": {},
   "source": [
    "## Numerical integration\n",
    "\n",
    "Material borrowed and modified from http://www.physics.nyu.edu/pine/pymanual/html/chap9/chap9_scipy.html\n",
    "\n",
    "When a function cannot be integrated analytically, or is very difficult to integrate analytically, one generally turns to numerical integration methods. SciPy has a number of routines for performing numerical integration. Most of them are found in the same scipy.integrate library. See http://docs.scipy.org/doc/scipy-0.14.0/reference/integrate.html for the full reference and documentation\n"
   ]
  },
  {
   "cell_type": "markdown",
   "metadata": {},
   "source": [
    "### Single integration\n",
    "\n",
    "The function *quad* is the workhorse of SciPy’s integration functions. Numerical integration is sometimes called quadrature (see lecture notes), hence the name. It is normally the default choice for performing single integrals of a function $f(x)$ over a given fixed range from $a$ to $b$:\n",
    "\n",
    "$$\\int_a^b f(x) dx$$"
   ]
  },
  {
   "cell_type": "markdown",
   "metadata": {},
   "source": [
    "The general form of *quad* is *scipy.integrate.quad(f, a, b)*, where *f* is the name of the function to be integrated and *a* and *b* are the lower and upper limits, respectively. The routine uses adaptive quadrature methods to numerically evaluate integrals, meaning it successively refines the subintervals (makes them smaller) until a desired level of numerical precision is achieved. For the quad routine, this is about 1e-8, although it usually does even better.\n",
    "\n",
    "As an example, let’s integrate a Gaussian function over the range from $-1$ to $1$\n",
    "\n",
    "$$\\int_{-1}^1 \\frac{1}{\\sqrt{2\\pi}} \\exp\\left(-\\frac{x^2}{2}\\right) dx$$\n",
    "\n",
    "We first need to define the function $f(x)=e^{-x^2/2}/\\sqrt{2\\pi}$, which we do using a *lambda* expression, and then we call the function *quad* to perform the integration.\n"
   ]
  },
  {
   "cell_type": "code",
   "execution_count": null,
   "metadata": {
    "collapsed": true
   },
   "outputs": [],
   "source": [
    "import scipy.integrate\n",
    "\n",
    "f = lambda x : exp(-x**2/2)/sqrt(2*pi)\n",
    "print(scipy.integrate.quad(f, -1, 1))"
   ]
  },
  {
   "cell_type": "markdown",
   "metadata": {},
   "source": [
    "### Exercise 3\n",
    "\n",
    "Compare the value to the known central quantile of the Gaussian distribution"
   ]
  },
  {
   "cell_type": "markdown",
   "metadata": {},
   "source": [
    "**Student response**: "
   ]
  },
  {
   "cell_type": "markdown",
   "metadata": {},
   "source": [
    "### scipy.integrate.quad"
   ]
  },
  {
   "cell_type": "markdown",
   "metadata": {},
   "source": [
    "The function call *scipy.integrate.quad(f, 0, 1)* returns a tuple of two numbers. The first is 0.6826..., which is the value of the integral, and the second is 7.57...e-15, which is an estimate of the absolute error in the value of the integral. The estimated precision is very good ! \n",
    "\n",
    "Because *quad* requires a callable object (e.g. a function name) as its first argument, we have to define this function first. We could use the usual *def* statement to create a normal function, and then use the name of that function in *quad*. However, it’s simpler here to use a *lambda* expression. In fact, we can just put the *lambda* expression directly into the first argument, as illustrated here\n"
   ]
  },
  {
   "cell_type": "code",
   "execution_count": null,
   "metadata": {
    "collapsed": true
   },
   "outputs": [],
   "source": [
    "import scipy\n",
    "from scipy.integrate import quad, quadrature, fixed_quad"
   ]
  },
  {
   "cell_type": "code",
   "execution_count": null,
   "metadata": {
    "collapsed": true
   },
   "outputs": [],
   "source": [
    "print(scipy.integrate.fixed_quad(lambda x : exp(-x**2/2)/sqrt(2*pi), -1, 1))"
   ]
  },
  {
   "cell_type": "markdown",
   "metadata": {},
   "source": [
    "Note: *quad* accepts $\\pm\\infty$ as arguments:"
   ]
  },
  {
   "cell_type": "code",
   "execution_count": null,
   "metadata": {
    "collapsed": true
   },
   "outputs": [],
   "source": [
    "print(scipy.integrate.quad(lambda x : exp(-x**2/2)/sqrt(2*pi), -inf, +inf))"
   ]
  },
  {
   "cell_type": "markdown",
   "metadata": {},
   "source": [
    "### Exercise 4\n",
    "\n",
    "Compare precision and execution time of functions *quad*, *fixed_quad*, and *quadrature*"
   ]
  },
  {
   "cell_type": "markdown",
   "metadata": {},
   "source": [
    "**Student response**: \n"
   ]
  },
  {
   "cell_type": "markdown",
   "metadata": {},
   "source": [
    "### Integrating sampled data"
   ]
  },
  {
   "cell_type": "markdown",
   "metadata": {},
   "source": [
    "If you have a fixed array of samples, you can use *scipy.integrate.cumtrapz*, *scipy.integrate.simps*, or *scipy.integrate.romb* to integrate them (using trapezoid, Simpson, and Romberg rules, respectively). "
   ]
  },
  {
   "cell_type": "code",
   "execution_count": null,
   "metadata": {
    "collapsed": true
   },
   "outputs": [],
   "source": [
    "from scipy import integrate\n",
    "import matplotlib.pyplot as plt\n",
    "\n",
    "x = np.linspace(-2, 2, num=20)\n",
    "y = x\n",
    "y_int = integrate.cumtrapz(y, x, initial=0)\n",
    "plt.plot(x, y_int, 'ro', x, y[0] + 0.5 * x**2, 'b-')\n",
    "plt.show()\n"
   ]
  },
  {
   "cell_type": "markdown",
   "metadata": {},
   "source": [
    "### Exercise 5\n",
    "\n",
    "Compute a numerical integral \n",
    "\n",
    "$$\\int_{-1}^1 \\frac{1}{\\sqrt{2\\pi}} \\exp\\left(-\\frac{x^2}{2}\\right) dx$$\n",
    "\n",
    "using an array of 10,100, and 1000 samples, and trapezoid and Simpson methods; compare the precision of the integral to what *quad* returns. \n",
    "\n",
    "For this exercise, please **put your computed values** inside the designated variables. This is the format we're trying out, for setting up future assignments with an autograder. For this workshop, the correctness of values are ungraded."
   ]
  },
  {
   "cell_type": "code",
   "execution_count": null,
   "metadata": {
    "collapsed": true
   },
   "outputs": [],
   "source": [
    "### CODE HERE\n",
    "\n",
    "\n",
    "### please include your answer in these variables:\n",
    "q5_integral_10_samples = 0.0\n",
    "q5_integral_100_samples = 0.0\n",
    "q5_integral_1000_samples = 0.0\n",
    "q5_integral_quad = 0.0\n",
    "\n",
    "print('integral with 10 samples: {0}'.format(q5_integral_10_samples))\n",
    "print('integral with 100 samples: {0}'.format(q5_integral_100_samples))\n",
    "print('integral with 1000 samples: {0}'.format(q5_integral_1000_samples))\n",
    "print('quad integral: {0}'.format(q5_integral_quad))"
   ]
  },
  {
   "cell_type": "markdown",
   "metadata": {},
   "source": [
    "**Comparison of values**: "
   ]
  },
  {
   "cell_type": "code",
   "execution_count": null,
   "metadata": {
    "collapsed": true
   },
   "outputs": [],
   "source": [
    "_ = ok.grade('q1')"
   ]
  },
  {
   "cell_type": "markdown",
   "metadata": {},
   "source": [
    "## Submission\n",
    "**Please run this line of code to submit your work to OkPy.**"
   ]
  },
  {
   "cell_type": "code",
   "execution_count": null,
   "metadata": {
    "collapsed": true
   },
   "outputs": [],
   "source": [
    "_ = ok.submit()"
   ]
  },
  {
   "cell_type": "code",
   "execution_count": null,
   "metadata": {
    "collapsed": true
   },
   "outputs": [],
   "source": []
  }
 ],
 "metadata": {
  "kernelspec": {
   "display_name": "Python 2",
   "language": "python",
   "name": "python2"
  },
  "language_info": {
   "codemirror_mode": {
    "name": "ipython",
    "version": 2
   },
   "file_extension": ".py",
   "mimetype": "text/x-python",
   "name": "python",
   "nbconvert_exporter": "python",
   "pygments_lexer": "ipython2",
   "version": "2.7.13"
  }
 },
 "nbformat": 4,
 "nbformat_minor": 1
}
