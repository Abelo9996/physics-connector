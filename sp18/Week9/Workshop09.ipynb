{
 "cells": [
  {
   "cell_type": "markdown",
   "metadata": {},
   "source": [
    "# Workshop 9"
   ]
  },
  {
   "cell_type": "markdown",
   "metadata": {},
   "source": [
    "\n",
    "## OkPy Submission Instructions\n",
    "In this lab, we will use OkPy to submit assignments, and also to grade them. At the end of the iPython notebook, you will find a line of code _ = ok.submit() that you must run to submit your assignment to OkPy. You can run this lines of code multiple times to submit revisions up until the deadline.\n",
    "You must also run the very first code block that imports the OkPy modules needed to submit your assignment."
   ]
  },
  {
   "cell_type": "code",
   "execution_count": null,
   "metadata": {},
   "outputs": [],
   "source": [
    "# Don't change this cell; just run it. \n",
    "from client.api.notebook import Notebook\n",
    "ok = Notebook('Workshop09.ok')\n",
    "_ = ok.auth(inline=True)"
   ]
  },
  {
   "cell_type": "code",
   "execution_count": null,
   "metadata": {},
   "outputs": [],
   "source": [
    "import numpy as np\n",
    "import scipy\n",
    "%matplotlib inline\n",
    "%precision 4"
   ]
  },
  {
   "cell_type": "markdown",
   "metadata": {},
   "source": [
    "## Constructing matrices in Python, matrix algebra, and finding determinants\n",
    "The following code demonstrates the syntax for writing a matrix, adding or multiplying matrices, and calculating determinants"
   ]
  },
  {
   "cell_type": "code",
   "execution_count": null,
   "metadata": {},
   "outputs": [],
   "source": [
    "A = np.matrix(\n",
    "    [[0, 4],\n",
    "     [2, 0]]\n",
    ")\n",
    "B = np.matrix(\n",
    "    [[-1, 2],\n",
    "     [1, -2]]\n",
    ")\n",
    "\n",
    "C = A + B\n",
    "print(\"C=\\n\",C)\n",
    "D = A*B\n",
    "print(\"D=\\n\",D)\n",
    "print(\"Determinant of C is\",np.linalg.det(C))"
   ]
  },
  {
   "cell_type": "markdown",
   "metadata": {},
   "source": [
    "### Exercise 1\n",
    "a. Write a 3x3 matrix A with entries (1,2,3,4,5,6,7,8,9), and a 3x3 matrix B with entries (2,5,3,4,10,6,3,7,3), where the numbers in these lists are entered in the matrix from left to right then top to bottom (like reading this workshop).\n",
    "\n",
    "b. Write your own determinant function determinant(A), which takes a 3x3 matrix as an argument and returns the determinant of that matrix.\n",
    "\n",
    "c. Test your determinant function on A and B. Also use the built-in np.linalg.det() to calculate the determinant. Do the results agree?"
   ]
  },
  {
   "cell_type": "code",
   "execution_count": null,
   "metadata": {},
   "outputs": [],
   "source": [
    "#Code for exercise 1 here:\n",
    "#part a\n",
    "\n",
    "A =\n",
    "B =\n",
    "\n",
    "#part b\n",
    "def determinant(A):\n",
    "\n",
    "    return det\n",
    "\n",
    "#part c\n",
    "det1A =      #determinant of A using your function\n",
    "det1B =      #determinant of B using your function\n",
    "det2A =      #determinant of A using built-in\n",
    "det2B =      #determinant of B using built-in\n",
    "\n",
    "#compare results in markdown cell"
   ]
  },
  {
   "cell_type": "markdown",
   "metadata": {},
   "source": [
    "## Inverting matrices"
   ]
  },
  {
   "cell_type": "markdown",
   "metadata": {},
   "source": [
    "Linear systems of equations are of the form Ax = b where A is a square matrix, x is a vector of variables, and b is a vector of values. This equation is solved by x = A<sup>-1</sup>b, where A<sup>-1</sup> is the inverse of A, defined such that AA<sup>-1</sup> = A<sup>-1</sup>A = I, the identity matrix. Typically inverting a matrix is not the optimal numerical method for solving such problems, but there may be other occasions when inverting a matrix is necessary; the code below gives an example of how to do this."
   ]
  },
  {
   "cell_type": "code",
   "execution_count": null,
   "metadata": {},
   "outputs": [],
   "source": [
    "M = np.matrix(\n",
    "[[10,-7,0],\n",
    "[-3,2.099,6],\n",
    "[5,-1,5]]  \n",
    ")\n",
    "print('We have matrix M =')\n",
    "print(M)\n",
    "Minv = np.linalg.inv(M)\n",
    "print('Its inverse is')\n",
    "print(Minv)"
   ]
  },
  {
   "cell_type": "markdown",
   "metadata": {},
   "source": [
    "### Exercise 2\n",
    "a. Invert the matrices C and D in the code cell below. Then multiply C and D on the left by your answer for their respective inverses. Is the product what you expect?"
   ]
  },
  {
   "cell_type": "code",
   "execution_count": null,
   "metadata": {},
   "outputs": [],
   "source": [
    "#Code for exercise 2 here:\n",
    "C = np.matrix([[5,3],[-6,7]])\n",
    "D = np.matrix([[1e-14,1],[1,1]])\n",
    "\n",
    "\n",
    "Cinv =   #inverse of C\n",
    "Dinv =    #inverse of D\n",
    "\n",
    "productC =      #product of C with its inverse\n",
    "productD =       #product of D with its inverse\n"
   ]
  },
  {
   "cell_type": "markdown",
   "metadata": {},
   "source": [
    "## Solving systems of linear equations"
   ]
  },
  {
   "cell_type": "markdown",
   "metadata": {},
   "source": [
    "A typically more efficient way of solving the equation Ax = b is using Gaussian elimination, as below."
   ]
  },
  {
   "cell_type": "code",
   "execution_count": null,
   "metadata": {},
   "outputs": [],
   "source": [
    "A = np.matrix(\n",
    "[\n",
    "    [25,5,1],\n",
    "    [64,8,1],\n",
    "    [144,12,1]\n",
    "])\n",
    "Y = np.array([106.8,177.2,279.2])\n",
    "X = np.linalg.solve(A,Y)\n",
    "print(\"Solution: X=\",X)"
   ]
  },
  {
   "cell_type": "markdown",
   "metadata": {},
   "source": [
    "### Exercise 3\n",
    "a. Solve the systems Cx = b and Dx = b, with C and D from exercise 2, using matrix inversion.\n",
    "\n",
    "b. Now solve the same systems using Gaussian elimination. Do the answers agree?\n",
    "\n",
    "c. (adapted from Newman, Ch. 6) Solving an electromagnetism problem - consider the circuit below:\n",
    "\n",
    "It can be shown using Ohm's Law and Kirchoff's rules, as taught in 7B, that the voltages satisfy the following system of equations:\n",
    "\n",
    "3V<sub>1</sub>-V<sub>2</sub>-V<sub>3</sub> = V<sub>+</sub>\n",
    "\n",
    "-V<sub>1</sub>+4V<sub>2</sub>-V<sub>3</sub>-V<sub>4</sub> = V<sub>+</sub>\n",
    "\n",
    ".\n",
    "\n",
    ".\n",
    "\n",
    ".\n",
    "\n",
    "-V<sub>i-2</sub>-V<sub>i-1</sub>+4V<sub>i</sub>-V<sub>i+1</sub>-V<sub>i+2</sub> = 0\n",
    "\n",
    ".\n",
    "\n",
    ".\n",
    "\n",
    ".\n",
    "\n",
    "-V<sub>N-3</sub>-V<sub>N-2</sub>+4V<sub>N-1</sub>-V<sub>N</sub> = 0\n",
    "-V<sub>N-2</sub>-V<sub>N-1</sub>+3V<sub>N</sub> = 0\n",
    "\n",
    "These can be written in the form Av = w. Assume V<sub>+</sub> = 5 Volts; write a function circuitsystem(N) that takes the argument N and outputs the matrix A and w. Solve the system for N = 6."
   ]
  },
  {
   "cell_type": "code",
   "execution_count": null,
   "metadata": {},
   "outputs": [],
   "source": [
    "#Code for exercise 3 here:\n",
    "#part a \n",
    "b = np.array([1,1])\n",
    "\n",
    "\n",
    "x1 =     # solution of Cx = b\n",
    "x2 =     # solution of Dx = b\n",
    "\n",
    "#part b\n",
    "\n",
    "x3 =     # solution of Cx = b\n",
    "x4 =     # solution of Dx = b\n",
    "#compare to part a in markdown cell\n",
    "\n",
    "#part c\n",
    "\n",
    "def circuitsystem(N):\n",
    "    \n",
    "    return A,w\n",
    "\n",
    "v =     # solution for N = 6"
   ]
  },
  {
   "cell_type": "markdown",
   "metadata": {},
   "source": [
    "## Eigenvalues and Eigenvectors"
   ]
  },
  {
   "cell_type": "markdown",
   "metadata": {},
   "source": [
    "Problems where we want to have a matrix A, and want to find a vector x and a number such that Ax = ax, are ubiquitous in physics. Notice the geometrical interpretation of this problem: the matrix A acting on the vector x does not change its direction; it only rescales x (changes its length). In this case, x is called an eigenvector, and a is called an eigenvalue. An example of how to solve an eigenvalue problem using Python is below."
   ]
  },
  {
   "cell_type": "code",
   "execution_count": null,
   "metadata": {},
   "outputs": [],
   "source": [
    "A = np.matrix(\n",
    "[\n",
    "    [25,5,1],\n",
    "    [64,8,1],\n",
    "    [144,12,1]\n",
    "])\n",
    "w,v = np.linalg.eig(A)\n",
    "print('Eigenvalues of A=',w)\n",
    "print('Eigenvectors: \\n',v)"
   ]
  },
  {
   "cell_type": "markdown",
   "metadata": {},
   "source": [
    "### Exercise 4: (adapted from Newman Ch.6)\n",
    "Solving a quantum mechanics problem - if you haven't taken quantum mechanics, don't worry: I've done the physics portion for you, so the remaining part is just computational. If you have... notice how this method allows you to find approximate energy levels / wavefunctions for problems that may be analytically intractable!\n",
    "\n",
    "Suppose a particle is in a square well potential with infinite barriers at x = 0 and x = L, with the potential on the floor not flat (as in the case of the infinite square well that is readily solved analytically) but rather of the form V(x) = ax/L. If the particle is charged, this may be achieved by applying a uniform electric field across the infinite well. Since the wavefunction must go to zero at x = 0 and x = L, write it as a Fourier sine series: $\\psi(x) = \\sum\\limits_{n=1}^\\infty \\psi_n sin{\\frac{\\pi nx}{L}}$ . Then it can be shown that the vector of Fourier coefficients $\\psi = (\\psi_1,\\psi_2,...)$ satisfies $H\\psi = E\\psi$ where E are the allowed energy eigenvalues, and H is the matrix with elements $H_{mn} = 0$ if m and n are not equal and both even or both odd; $H_{mn} = -\\frac{8amn}{\\pi^2(m^2-n^2)^2}$ if m and n are not equal, and one is even while the other is odd, and finally $H_{mn} = \\frac{a}{2} + \\frac{\\hbar^2\\pi^2n^2}{2ML^2}$ if m=n. Here M is the mass of the particle, $\\hbar$ is the reduced Planck's constant.\n",
    "\n",
    "\n",
    "Now, assume the particle is an electron, a = 10eV, and the width of the trap is L = 5 angstroms. In principle, $\\psi$ is an infinite dimensional vector: note that n runs from one to infinity in the Fourier series. This means H, the matrix we want to find the eigenvalues of, is also infinite dimensional. But let's assume the lowest frequency modes dominate the wavefunctions at low energy levels. Then cut n off at ten, so H is a 10x10 matrix. Find the allowed energy levels of the particle (these are just the eigenvalues of H, as explained above)."
   ]
  },
  {
   "cell_type": "code",
   "execution_count": null,
   "metadata": {},
   "outputs": [],
   "source": [
    "#code for exercise 4 here:\n",
    "\n",
    "E =    #vector of energy eigenvalues in ascending order"
   ]
  },
  {
   "cell_type": "markdown",
   "metadata": {},
   "source": [
    "## Submission\n",
    "Please run this line of code to submit your work to OkPy."
   ]
  },
  {
   "cell_type": "code",
   "execution_count": null,
   "metadata": {},
   "outputs": [],
   "source": [
    "_ = ok.submit()"
   ]
  }
 ],
 "metadata": {
  "kernelspec": {
   "display_name": "Python 3",
   "language": "python",
   "name": "python3"
  },
  "language_info": {
   "codemirror_mode": {
    "name": "ipython",
    "version": 3
   },
   "file_extension": ".py",
   "mimetype": "text/x-python",
   "name": "python",
   "nbconvert_exporter": "python",
   "pygments_lexer": "ipython3",
   "version": "3.6.1"
  }
 },
 "nbformat": 4,
 "nbformat_minor": 2
}
